{
 "cells": [
  {
   "cell_type": "code",
   "execution_count": 0,
   "metadata": {
    "application/vnd.databricks.v1+cell": {
     "cellMetadata": {
      "byteLimit": 2048000,
      "rowLimit": 10000
     },
     "inputWidgets": {},
     "nuid": "74bd2df9-d49f-4816-84bc-1f44cd6eb1e9",
     "showTitle": false,
     "tableResultSettingsMap": {},
     "title": ""
    }
   },
   "outputs": [
    {
     "data": {
      "text/plain": [
       "\u001b[36mraw_volume_path\u001b[39m: \u001b[32mString\u001b[39m = \u001b[32m\"/Volumes/bronze_sb/test3/raw_data/\"\u001b[39m"
      ]
     },
     "execution_count": 6,
     "metadata": {},
     "output_type": "execute_result"
    }
   ],
   "source": [
    "// variables\n",
    "val raw_volume_path = \"/Volumes/bronze_sb/test3/raw_data/\""
   ]
  },
  {
   "cell_type": "code",
   "execution_count": 0,
   "metadata": {
    "application/vnd.databricks.v1+cell": {
     "cellMetadata": {
      "byteLimit": 2048000,
      "rowLimit": 10000
     },
     "inputWidgets": {},
     "nuid": "308a9062-f14c-453e-a8cf-e39c959ff990",
     "showTitle": false,
     "tableResultSettingsMap": {},
     "title": ""
    }
   },
   "outputs": [
    {
     "data": {
      "text/plain": [
       "defined \u001b[32mfunction\u001b[39m \u001b[36mget_schema\u001b[39m"
      ]
     },
     "execution_count": 7,
     "metadata": {},
     "output_type": "execute_result"
    }
   ],
   "source": [
    "def get_schema(file_path:String): String ={\n",
    "  val sdf = spark.read.option(\"header\", \"true\").option(\"delimiter\", \"|\").option(\"inferSchema\", \"true\").csv(file_path)\n",
    "  return sdf.schema.toDDL\n",
    "}\n"
   ]
  },
  {
   "cell_type": "code",
   "execution_count": 0,
   "metadata": {
    "application/vnd.databricks.v1+cell": {
     "cellMetadata": {
      "byteLimit": 2048000,
      "rowLimit": 10000
     },
     "inputWidgets": {},
     "nuid": "977403b9-fc86-4e29-9b1f-e1e4488816a2",
     "showTitle": false,
     "tableResultSettingsMap": {},
     "title": ""
    }
   },
   "outputs": [
    {
     "name": "stdout",
     "output_type": "stream",
     "text": [
      "(fact_averagecosts_dlm,/Volumes/bronze_sb/test3/raw_data/fact.averagecosts.dlm)\n",
      "fscldt_id INT,sku_id STRING,average_unit_standardcost DOUBLE,average_unit_landedcost DOUBLE\n",
      "(fact_transactions_dlm,/Volumes/bronze_sb/test3/raw_data/fact.transactions.dlm)\n",
      "order_id BIGINT,line_id INT,type STRING,dt TIMESTAMP,pos_site_id STRING,sku_id STRING,fscldt_id INT,price_substate_id STRING,sales_units INT,sales_dollars DOUBLE,discount_dollars DOUBLE,original_order_id BIGINT,original_line_id INT\n",
      "(hier_clnd_dlm,/Volumes/bronze_sb/test3/raw_data/hier.clnd.dlm)\n",
      "fscldt_id INT,fscldt_label STRING,fsclwk_id INT,fsclwk_label STRING,fsclmth_id INT,fsclmth_label STRING,fsclqrtr_id INT,fsclqrtr_label STRING,fsclyr_id INT,fsclyr_label INT,ssn_id STRING,ssn_label STRING,ly_fscldt_id INT,lly_fscldt_id INT,fscldow INT,fscldom INT,fscldoq INT,fscldoy INT,fsclwoy INT,fsclmoy INT,fsclqoy INT,date DATE\n",
      "(hier_hldy_dlm,/Volumes/bronze_sb/test3/raw_data/hier.hldy.dlm)\n",
      "hldy_id STRING,hldy_label STRING\n",
      "(hier_invloc_dlm,/Volumes/bronze_sb/test3/raw_data/hier.invloc.dlm)\n",
      "loc INT,loc_label STRING,loctype STRING,loctype_label STRING\n",
      "(hier_invstatus_dlm,/Volumes/bronze_sb/test3/raw_data/hier.invstatus.dlm)\n",
      "code_id STRING,code_label STRING,bckt_id STRING,bckt_label STRING,ownrshp_id STRING,ownrshp_label STRING\n",
      "(hier_possite_dlm,/Volumes/bronze_sb/test3/raw_data/hier.possite.dlm)\n",
      "site_id STRING,site_label STRING,subchnl_id STRING,subchnl_label STRING,chnl_id STRING,chnl_label STRING\n",
      "(hier_pricestate_dlm,/Volumes/bronze_sb/test3/raw_data/hier.pricestate.dlm)\n",
      "substate_id STRING,substate_label STRING,state_id STRING,state_label STRING\n",
      "(hier_prod_dlm,/Volumes/bronze_sb/test3/raw_data/hier.prod.dlm)\n",
      "sku_id STRING,sku_label STRING,stylclr_id STRING,stylclr_label STRING,styl_id STRING,styl_label STRING,subcat_id INT,subcat_label STRING,cat_id INT,cat_label STRING,dept_id INT,dept_label STRING,issvc INT,isasmbly INT,isnfs INT\n",
      "(hier_rtlloc_dlm,/Volumes/bronze_sb/test3/raw_data/hier.rtlloc.dlm)\n",
      "str INT,str_label STRING,dstr INT,dstr_label STRING,rgn INT,rgn_label STRING\n"
     ]
    },
    {
     "data": {
      "text/plain": [
       "\u001b[36mdataset_list\u001b[39m: \u001b[32mSeq\u001b[39m[\u001b[32mcom\u001b[39m.\u001b[32mdatabricks\u001b[39m.\u001b[32mbackend\u001b[39m.\u001b[32mdaemon\u001b[39m.\u001b[32mdbutils\u001b[39m.\u001b[32mFileInfo\u001b[39m] = \u001b[33mList\u001b[39m(\n",
       "  FileInfo(dbfs:/Volumes/bronze_sb/test3/raw_data/fact.averagecosts.dlm, fact.averagecosts.dlm, 29142959, 1741510042000),\n",
       "  FileInfo(dbfs:/Volumes/bronze_sb/test3/raw_data/fact.transactions.dlm, fact.transactions.dlm, 380631122, 1741510141000),\n",
       "  FileInfo(dbfs:/Volumes/bronze_sb/test3/raw_data/hier.clnd.dlm, hier.clnd.dlm, 276119, 1741510035000),\n",
       "  FileInfo(dbfs:/Volumes/bronze_sb/test3/raw_data/hier.hldy.dlm, hier.hldy.dlm, 545, 1741510035000),\n",
       "  FileInfo(dbfs:/Volumes/bronze_sb/test3/raw_data/hier.invloc.dlm, hier.invloc.dlm, 2702, 1741510035000),\n",
       "  FileInfo(dbfs:/Volumes/bronze_sb/test3/raw_data/hier.invstatus.dlm, hier.invstatus.dlm, 17004, 1741510035000),\n",
       "  FileInfo(dbfs:/Volumes/bronze_sb/test3/raw_data/hier.possite.dlm, hier.possite.dlm, 5079, 1741510035000),\n",
       "  FileInfo(dbfs:/Volumes/bronze_sb/test3/raw_data/hier.pricestate.dlm, hier.pricestate.dlm, 157, 1741510035000),\n",
       "  FileInfo(dbfs:/Volumes/bronze_sb/test3/raw_data/hier.prod.dlm, hier.prod.dlm, 194621, 1741510035000),\n",
       "  FileInfo(dbfs:/Volumes/bronze_sb/test3/raw_data/hier.rtlloc.dlm, hier.rtlloc.dlm, 3456, 1741510035000)\n",
       ")\n",
       "\u001b[36mddl_list\u001b[39m: \u001b[32mList\u001b[39m[\u001b[32mNothing\u001b[39m] = \u001b[33mList\u001b[39m()"
      ]
     },
     "execution_count": 8,
     "metadata": {},
     "output_type": "execute_result"
    }
   ],
   "source": [
    "// getting the metadata of the files\n",
    "val dataset_list = dbutils.fs.ls(raw_volume_path)\n",
    "var ddl_list = List()\n",
    "for(file_info <- dataset_list){\n",
    "  val file_path = file_info.path.split(\":\")(1)\n",
    "  val table_name = file_info.name.replaceAll(\"\\\\.\", \"_\")\n",
    "  println(table_name, file_path)\n",
    "  val temp_ddl = get_schema(file_path)\n",
    "  println(temp_ddl)\n",
    "}\n"
   ]
  },
  {
   "cell_type": "code",
   "execution_count": 0,
   "metadata": {
    "application/vnd.databricks.v1+cell": {
     "cellMetadata": {
      "byteLimit": 2048000,
      "rowLimit": 10000
     },
     "inputWidgets": {},
     "nuid": "e8d71d32-415f-4c77-ac89-0a2fc64301c4",
     "showTitle": false,
     "tableResultSettingsMap": {},
     "title": ""
    }
   },
   "outputs": [
    {
     "name": "stdout",
     "output_type": "stream",
     "text": [
      "(fact_averagecosts_dlm,/Volumes/bronze_sb/test3/raw_data/fact.averagecosts.dlm)\n",
      "fscldt_id INT,sku_id STRING,average_unit_standardcost DOUBLE,average_unit_landedcost DOUBLE\n",
      "(fact_transactions_dlm,/Volumes/bronze_sb/test3/raw_data/fact.transactions.dlm)\n",
      "order_id BIGINT,line_id INT,type STRING,dt TIMESTAMP,pos_site_id STRING,sku_id STRING,fscldt_id INT,price_substate_id STRING,sales_units INT,sales_dollars DOUBLE,discount_dollars DOUBLE,original_order_id BIGINT,original_line_id INT\n",
      "(hier_clnd_dlm,/Volumes/bronze_sb/test3/raw_data/hier.clnd.dlm)\n",
      "fscldt_id INT,fscldt_label STRING,fsclwk_id INT,fsclwk_label STRING,fsclmth_id INT,fsclmth_label STRING,fsclqrtr_id INT,fsclqrtr_label STRING,fsclyr_id INT,fsclyr_label INT,ssn_id STRING,ssn_label STRING,ly_fscldt_id INT,lly_fscldt_id INT,fscldow INT,fscldom INT,fscldoq INT,fscldoy INT,fsclwoy INT,fsclmoy INT,fsclqoy INT,date DATE\n",
      "(hier_hldy_dlm,/Volumes/bronze_sb/test3/raw_data/hier.hldy.dlm)\n",
      "hldy_id STRING,hldy_label STRING\n",
      "(hier_invloc_dlm,/Volumes/bronze_sb/test3/raw_data/hier.invloc.dlm)\n",
      "loc INT,loc_label STRING,loctype STRING,loctype_label STRING\n",
      "(hier_invstatus_dlm,/Volumes/bronze_sb/test3/raw_data/hier.invstatus.dlm)\n",
      "code_id STRING,code_label STRING,bckt_id STRING,bckt_label STRING,ownrshp_id STRING,ownrshp_label STRING\n",
      "(hier_possite_dlm,/Volumes/bronze_sb/test3/raw_data/hier.possite.dlm)\n",
      "site_id STRING,site_label STRING,subchnl_id STRING,subchnl_label STRING,chnl_id STRING,chnl_label STRING\n",
      "(hier_pricestate_dlm,/Volumes/bronze_sb/test3/raw_data/hier.pricestate.dlm)\n",
      "substate_id STRING,substate_label STRING,state_id STRING,state_label STRING\n",
      "(hier_prod_dlm,/Volumes/bronze_sb/test3/raw_data/hier.prod.dlm)\n",
      "sku_id STRING,sku_label STRING,stylclr_id STRING,stylclr_label STRING,styl_id STRING,styl_label STRING,subcat_id INT,subcat_label STRING,cat_id INT,cat_label STRING,dept_id INT,dept_label STRING,issvc INT,isasmbly INT,isnfs INT\n",
      "(hier_rtlloc_dlm,/Volumes/bronze_sb/test3/raw_data/hier.rtlloc.dlm)\n",
      "str INT,str_label STRING,dstr INT,dstr_label STRING,rgn INT,rgn_label STRING\n"
     ]
    },
    {
     "data": {
      "text/plain": [
       "\u001b[36mdataset_list\u001b[39m: \u001b[32mSeq\u001b[39m[\u001b[32mcom\u001b[39m.\u001b[32mdatabricks\u001b[39m.\u001b[32mbackend\u001b[39m.\u001b[32mdaemon\u001b[39m.\u001b[32mdbutils\u001b[39m.\u001b[32mFileInfo\u001b[39m] = \u001b[33mList\u001b[39m(\n",
       "  FileInfo(dbfs:/Volumes/bronze_sb/test3/raw_data/fact.averagecosts.dlm, fact.averagecosts.dlm, 29142959, 1741510042000),\n",
       "  FileInfo(dbfs:/Volumes/bronze_sb/test3/raw_data/fact.transactions.dlm, fact.transactions.dlm, 380631122, 1741510141000),\n",
       "  FileInfo(dbfs:/Volumes/bronze_sb/test3/raw_data/hier.clnd.dlm, hier.clnd.dlm, 276119, 1741510035000),\n",
       "  FileInfo(dbfs:/Volumes/bronze_sb/test3/raw_data/hier.hldy.dlm, hier.hldy.dlm, 545, 1741510035000),\n",
       "  FileInfo(dbfs:/Volumes/bronze_sb/test3/raw_data/hier.invloc.dlm, hier.invloc.dlm, 2702, 1741510035000),\n",
       "  FileInfo(dbfs:/Volumes/bronze_sb/test3/raw_data/hier.invstatus.dlm, hier.invstatus.dlm, 17004, 1741510035000),\n",
       "  FileInfo(dbfs:/Volumes/bronze_sb/test3/raw_data/hier.possite.dlm, hier.possite.dlm, 5079, 1741510035000),\n",
       "  FileInfo(dbfs:/Volumes/bronze_sb/test3/raw_data/hier.pricestate.dlm, hier.pricestate.dlm, 157, 1741510035000),\n",
       "  FileInfo(dbfs:/Volumes/bronze_sb/test3/raw_data/hier.prod.dlm, hier.prod.dlm, 194621, 1741510035000),\n",
       "  FileInfo(dbfs:/Volumes/bronze_sb/test3/raw_data/hier.rtlloc.dlm, hier.rtlloc.dlm, 3456, 1741510035000)\n",
       ")\n",
       "\u001b[36mddl_list\u001b[39m: \u001b[32mList\u001b[39m[\u001b[32mNothing\u001b[39m] = \u001b[33mList\u001b[39m()"
      ]
     },
     "execution_count": 25,
     "metadata": {},
     "output_type": "execute_result"
    }
   ],
   "source": [
    "// getting the metadata of the files\n",
    "val dataset_list = dbutils.fs.ls(raw_volume_path)\n",
    "var ddl_list = List()\n",
    "for(file_info <- dataset_list){\n",
    "  val file_path = file_info.path.split(\":\")(1)\n",
    "  val table_name = file_info.name.replaceAll(\"\\\\.\", \"_\")\n",
    "  println(table_name, file_path)\n",
    "  val temp_ddl = get_schema(file_path)\n",
    "  println(temp_ddl)\n",
    "}\n"
   ]
  },
  {
   "cell_type": "markdown",
   "metadata": {
    "application/vnd.databricks.v1+cell": {
     "cellMetadata": {},
     "inputWidgets": {},
     "nuid": "d9a2a1db-daea-4b4c-8151-b287e11c317d",
     "showTitle": false,
     "tableResultSettingsMap": {},
     "title": ""
    }
   },
   "source": [
    "The following cells are for analysis, optional to run"
   ]
  },
  {
   "cell_type": "code",
   "execution_count": 0,
   "metadata": {
    "application/vnd.databricks.v1+cell": {
     "cellMetadata": {
      "byteLimit": 2048000,
      "rowLimit": 10000
     },
     "inputWidgets": {},
     "nuid": "e788a94a-e516-4a4d-8206-a2064eb29532",
     "showTitle": false,
     "tableResultSettingsMap": {},
     "title": ""
    }
   },
   "outputs": [
    {
     "data": {
      "text/html": [
       "<style scoped>\n",
       "  .table-result-container {\n",
       "    max-height: 300px;\n",
       "    overflow: auto;\n",
       "  }\n",
       "  table, th, td {\n",
       "    border: 1px solid black;\n",
       "    border-collapse: collapse;\n",
       "  }\n",
       "  th, td {\n",
       "    padding: 5px;\n",
       "  }\n",
       "  th {\n",
       "    text-align: left;\n",
       "  }\n",
       "</style><div class='table-result-container'><table class='table-result'><thead style='background-color: white'><tr><th>count(1)</th></tr></thead><tbody><tr><td>19</td></tr><tr><td>19</td></tr><tr><td>19</td></tr></tbody></table></div>"
      ]
     },
     "metadata": {
      "application/vnd.databricks.v1+output": {
       "addedWidgets": {},
       "aggData": [],
       "aggError": "",
       "aggOverflow": false,
       "aggSchema": [],
       "aggSeriesLimitReached": false,
       "aggType": "",
       "arguments": {},
       "columnCustomDisplayInfos": {},
       "data": [
        [
         19
        ],
        [
         19
        ],
        [
         19
        ]
       ],
       "datasetInfos": [],
       "dbfsResultPath": null,
       "isJsonSchema": true,
       "metadata": {
        "isDbfsCommandResult": false
       },
       "overflow": false,
       "plotOptions": {
        "customPlotOptions": {},
        "displayType": "table",
        "pivotAggregation": null,
        "pivotColumns": null,
        "xColumns": null,
        "yColumns": null
       },
       "removedWidgets": [],
       "schema": [
        {
         "metadata": "{\"__autoGeneratedAlias\":\"true\"}",
         "name": "count(1)",
         "type": "\"long\""
        }
       ],
       "type": "table"
      }
     },
     "output_type": "display_data"
    }
   ],
   "source": [
    "%sql\n",
    "select count(*) from silver_sb.test2.b_hier_hldy_dlm\n",
    "union all\n",
    "select count(distinct(hldy_id)) from silver_sb.test2.b_hier_hldy_dlm\n",
    "union all\n",
    "select count(distinct(hldy_label)) from from silver_sb.test2.b_hier_hldy_dlm\n",
    "-- 19 distinct rows, hldy_id is primary key"
   ]
  },
  {
   "cell_type": "code",
   "execution_count": 0,
   "metadata": {
    "application/vnd.databricks.v1+cell": {
     "cellMetadata": {
      "byteLimit": 2048000,
      "rowLimit": 10000
     },
     "inputWidgets": {},
     "nuid": "1283428e-0bcf-4949-9a25-90f90242bb44",
     "showTitle": false,
     "tableResultSettingsMap": {},
     "title": ""
    }
   },
   "outputs": [
    {
     "data": {
      "text/html": [
       "<style scoped>\n",
       "  .table-result-container {\n",
       "    max-height: 300px;\n",
       "    overflow: auto;\n",
       "  }\n",
       "  table, th, td {\n",
       "    border: 1px solid black;\n",
       "    border-collapse: collapse;\n",
       "  }\n",
       "  th, td {\n",
       "    padding: 5px;\n",
       "  }\n",
       "  th {\n",
       "    text-align: left;\n",
       "  }\n",
       "</style><div class='table-result-container'><table class='table-result'><thead style='background-color: white'><tr><th>count(1)</th></tr></thead><tbody><tr><td>85</td></tr><tr><td>85</td></tr><tr><td>85</td></tr></tbody></table></div>"
      ]
     },
     "metadata": {
      "application/vnd.databricks.v1+output": {
       "addedWidgets": {},
       "aggData": [],
       "aggError": "",
       "aggOverflow": false,
       "aggSchema": [],
       "aggSeriesLimitReached": false,
       "aggType": "",
       "arguments": {},
       "columnCustomDisplayInfos": {},
       "data": [
        [
         85
        ],
        [
         85
        ],
        [
         85
        ]
       ],
       "datasetInfos": [],
       "dbfsResultPath": null,
       "isJsonSchema": true,
       "metadata": {
        "isDbfsCommandResult": false
       },
       "overflow": false,
       "plotOptions": {
        "customPlotOptions": {},
        "displayType": "table",
        "pivotAggregation": null,
        "pivotColumns": null,
        "xColumns": null,
        "yColumns": null
       },
       "removedWidgets": [],
       "schema": [
        {
         "metadata": "{\"__autoGeneratedAlias\":\"true\"}",
         "name": "count(1)",
         "type": "\"long\""
        }
       ],
       "type": "table"
      }
     },
     "output_type": "display_data"
    }
   ],
   "source": [
    "%sql\n",
    "select count(*) from silver_sb.test2.b_hier_invloc_dlm\n",
    "union all\n",
    "select count(distinct(loc)) from silver_sb.test2.b_hier_invloc_dlm\n",
    "union all\n",
    "select count(distinct(loc_label)) from from silver_sb.test2.b_hier_invloc_dlm\n",
    "-- 85 distinct rows, loc is primary key"
   ]
  },
  {
   "cell_type": "code",
   "execution_count": 0,
   "metadata": {
    "application/vnd.databricks.v1+cell": {
     "cellMetadata": {
      "byteLimit": 2048000,
      "rowLimit": 10000
     },
     "inputWidgets": {},
     "nuid": "4859f9ca-ca64-4ee2-9e5c-8423b460e1b6",
     "showTitle": false,
     "tableResultSettingsMap": {},
     "title": ""
    }
   },
   "outputs": [
    {
     "data": {
      "text/html": [
       "<style scoped>\n",
       "  .table-result-container {\n",
       "    max-height: 300px;\n",
       "    overflow: auto;\n",
       "  }\n",
       "  table, th, td {\n",
       "    border: 1px solid black;\n",
       "    border-collapse: collapse;\n",
       "  }\n",
       "  th, td {\n",
       "    padding: 5px;\n",
       "  }\n",
       "  th {\n",
       "    text-align: left;\n",
       "  }\n",
       "</style><div class='table-result-container'><table class='table-result'><thead style='background-color: white'><tr><th>count(1)</th></tr></thead><tbody><tr><td>245</td></tr><tr><td>245</td></tr><tr><td>245</td></tr></tbody></table></div>"
      ]
     },
     "metadata": {
      "application/vnd.databricks.v1+output": {
       "addedWidgets": {},
       "aggData": [],
       "aggError": "",
       "aggOverflow": false,
       "aggSchema": [],
       "aggSeriesLimitReached": false,
       "aggType": "",
       "arguments": {},
       "columnCustomDisplayInfos": {},
       "data": [
        [
         245
        ],
        [
         245
        ],
        [
         245
        ]
       ],
       "datasetInfos": [],
       "dbfsResultPath": null,
       "isJsonSchema": true,
       "metadata": {
        "isDbfsCommandResult": false
       },
       "overflow": false,
       "plotOptions": {
        "customPlotOptions": {},
        "displayType": "table",
        "pivotAggregation": null,
        "pivotColumns": null,
        "xColumns": null,
        "yColumns": null
       },
       "removedWidgets": [],
       "schema": [
        {
         "metadata": "{\"__autoGeneratedAlias\":\"true\"}",
         "name": "count(1)",
         "type": "\"long\""
        }
       ],
       "type": "table"
      }
     },
     "output_type": "display_data"
    }
   ],
   "source": [
    "%sql\n",
    "select count(*) from silver_sb.test2.b_hier_invstatus_dlm\n",
    "union all\n",
    "select count(distinct(code_id)) from silver_sb.test2.b_hier_invstatus_dlm\n",
    "union all\n",
    "select count(distinct(code_label)) from from silver_sb.test2.b_hier_invstatus_dlm\n",
    "-- 245 distinct rows, code_id is primary key"
   ]
  },
  {
   "cell_type": "code",
   "execution_count": 0,
   "metadata": {
    "application/vnd.databricks.v1+cell": {
     "cellMetadata": {
      "byteLimit": 2048000,
      "rowLimit": 10000
     },
     "inputWidgets": {},
     "nuid": "24c7b589-e342-4586-85d2-c7a52dc5b338",
     "showTitle": false,
     "tableResultSettingsMap": {},
     "title": ""
    }
   },
   "outputs": [
    {
     "data": {
      "text/html": [
       "<style scoped>\n",
       "  .table-result-container {\n",
       "    max-height: 300px;\n",
       "    overflow: auto;\n",
       "  }\n",
       "  table, th, td {\n",
       "    border: 1px solid black;\n",
       "    border-collapse: collapse;\n",
       "  }\n",
       "  th, td {\n",
       "    padding: 5px;\n",
       "  }\n",
       "  th {\n",
       "    text-align: left;\n",
       "  }\n",
       "</style><div class='table-result-container'><table class='table-result'><thead style='background-color: white'><tr><th>count(1)</th></tr></thead><tbody><tr><td>90</td></tr><tr><td>90</td></tr><tr><td>90</td></tr></tbody></table></div>"
      ]
     },
     "metadata": {
      "application/vnd.databricks.v1+output": {
       "addedWidgets": {},
       "aggData": [],
       "aggError": "",
       "aggOverflow": false,
       "aggSchema": [],
       "aggSeriesLimitReached": false,
       "aggType": "",
       "arguments": {},
       "columnCustomDisplayInfos": {},
       "data": [
        [
         90
        ],
        [
         90
        ],
        [
         90
        ]
       ],
       "datasetInfos": [],
       "dbfsResultPath": null,
       "isJsonSchema": true,
       "metadata": {
        "isDbfsCommandResult": false
       },
       "overflow": false,
       "plotOptions": {
        "customPlotOptions": {},
        "displayType": "table",
        "pivotAggregation": null,
        "pivotColumns": null,
        "xColumns": null,
        "yColumns": null
       },
       "removedWidgets": [],
       "schema": [
        {
         "metadata": "{\"__autoGeneratedAlias\":\"true\"}",
         "name": "count(1)",
         "type": "\"long\""
        }
       ],
       "type": "table"
      }
     },
     "output_type": "display_data"
    }
   ],
   "source": [
    "%sql\n",
    "select count(*) from silver_sb.test2.b_hier_possite_dlm\n",
    "union all\n",
    "select count(distinct(site_id)) from silver_sb.test2.b_hier_possite_dlm\n",
    "union all\n",
    "select count(distinct(site_label)) from from silver_sb.test2.b_hier_possite_dlm\n",
    "-- 90 distinct rows, site_id is primary key"
   ]
  },
  {
   "cell_type": "code",
   "execution_count": 0,
   "metadata": {
    "application/vnd.databricks.v1+cell": {
     "cellMetadata": {
      "byteLimit": 2048000,
      "rowLimit": 10000
     },
     "inputWidgets": {},
     "nuid": "c43d37ed-c82e-4505-925c-02f73238047e",
     "showTitle": false,
     "tableResultSettingsMap": {},
     "title": ""
    }
   },
   "outputs": [
    {
     "data": {
      "text/html": [
       "<style scoped>\n",
       "  .table-result-container {\n",
       "    max-height: 300px;\n",
       "    overflow: auto;\n",
       "  }\n",
       "  table, th, td {\n",
       "    border: 1px solid black;\n",
       "    border-collapse: collapse;\n",
       "  }\n",
       "  th, td {\n",
       "    padding: 5px;\n",
       "  }\n",
       "  th {\n",
       "    text-align: left;\n",
       "  }\n",
       "</style><div class='table-result-container'><table class='table-result'><thead style='background-color: white'><tr><th>count(1)</th><th>count</th></tr></thead><tbody><tr><td>2</td><td>key1</td></tr><tr><td>4</td><td>key2</td></tr><tr><td>4</td><td>count</td></tr></tbody></table></div>"
      ]
     },
     "metadata": {
      "application/vnd.databricks.v1+output": {
       "addedWidgets": {},
       "aggData": [],
       "aggError": "",
       "aggOverflow": false,
       "aggSchema": [],
       "aggSeriesLimitReached": false,
       "aggType": "",
       "arguments": {},
       "columnCustomDisplayInfos": {},
       "data": [
        [
         2,
         "key1"
        ],
        [
         4,
         "key2"
        ],
        [
         4,
         "count"
        ]
       ],
       "datasetInfos": [],
       "dbfsResultPath": null,
       "isJsonSchema": true,
       "metadata": {
        "isDbfsCommandResult": false
       },
       "overflow": false,
       "plotOptions": {
        "customPlotOptions": {},
        "displayType": "table",
        "pivotAggregation": null,
        "pivotColumns": null,
        "xColumns": null,
        "yColumns": null
       },
       "removedWidgets": [],
       "schema": [
        {
         "metadata": "{\"__autoGeneratedAlias\":\"true\"}",
         "name": "count(1)",
         "type": "\"long\""
        },
        {
         "metadata": "{}",
         "name": "count",
         "type": "\"string\""
        }
       ],
       "type": "table"
      }
     },
     "output_type": "display_data"
    }
   ],
   "source": [
    "%sql\n",
    "select count(*),'count' from silver_sb.test2.b_hier_pricestate_dlm\n",
    "union all\n",
    "select count(distinct(state_id)), 'key1' from silver_sb.test2.b_hier_pricestate_dlm\n",
    "union all\n",
    "select count(distinct(state_id, substate_id)), 'key2' from silver_sb.test2.b_hier_pricestate_dlm\n",
    "-- 4 distinct rows, state_id, substate_id is primary key"
   ]
  },
  {
   "cell_type": "code",
   "execution_count": 0,
   "metadata": {
    "application/vnd.databricks.v1+cell": {
     "cellMetadata": {
      "byteLimit": 2048000,
      "rowLimit": 10000
     },
     "inputWidgets": {},
     "nuid": "dade93cb-4584-494f-97dd-93967162a852",
     "showTitle": false,
     "tableResultSettingsMap": {},
     "title": ""
    }
   },
   "outputs": [
    {
     "data": {
      "text/html": [
       "<style scoped>\n",
       "  .table-result-container {\n",
       "    max-height: 300px;\n",
       "    overflow: auto;\n",
       "  }\n",
       "  table, th, td {\n",
       "    border: 1px solid black;\n",
       "    border-collapse: collapse;\n",
       "  }\n",
       "  th, td {\n",
       "    padding: 5px;\n",
       "  }\n",
       "  th {\n",
       "    text-align: left;\n",
       "  }\n",
       "</style><div class='table-result-container'><table class='table-result'><thead style='background-color: white'><tr><th>count(1)</th><th>count</th></tr></thead><tbody><tr><td>1235</td><td>key1</td></tr><tr><td>1226</td><td>key2</td></tr><tr><td>1235</td><td>count</td></tr></tbody></table></div>"
      ]
     },
     "metadata": {
      "application/vnd.databricks.v1+output": {
       "addedWidgets": {},
       "aggData": [],
       "aggError": "",
       "aggOverflow": false,
       "aggSchema": [],
       "aggSeriesLimitReached": false,
       "aggType": "",
       "arguments": {},
       "columnCustomDisplayInfos": {},
       "data": [
        [
         1235,
         "key1"
        ],
        [
         1226,
         "key2"
        ],
        [
         1235,
         "count"
        ]
       ],
       "datasetInfos": [],
       "dbfsResultPath": null,
       "isJsonSchema": true,
       "metadata": {
        "isDbfsCommandResult": false
       },
       "overflow": false,
       "plotOptions": {
        "customPlotOptions": {},
        "displayType": "table",
        "pivotAggregation": null,
        "pivotColumns": null,
        "xColumns": null,
        "yColumns": null
       },
       "removedWidgets": [],
       "schema": [
        {
         "metadata": "{\"__autoGeneratedAlias\":\"true\"}",
         "name": "count(1)",
         "type": "\"long\""
        },
        {
         "metadata": "{}",
         "name": "count",
         "type": "\"string\""
        }
       ],
       "type": "table"
      }
     },
     "output_type": "display_data"
    }
   ],
   "source": [
    "%sql\n",
    "select count(*),'count' from silver_sb.test2.b_hier_prod_dlm\n",
    "union all\n",
    "select count(distinct(sku_id)), 'key1' from silver_sb.test2.b_hier_prod_dlm\n",
    "union all\n",
    "select count(distinct(sku_label)), 'key2' from from silver_sb.test2.b_hier_prod_dlm\n",
    "-- 1235 distinct rows, sku_id is primary key"
   ]
  },
  {
   "cell_type": "code",
   "execution_count": 0,
   "metadata": {
    "application/vnd.databricks.v1+cell": {
     "cellMetadata": {
      "byteLimit": 2048000,
      "rowLimit": 10000
     },
     "inputWidgets": {},
     "nuid": "87f172c6-9f78-43b1-9913-37e57457553e",
     "showTitle": false,
     "tableResultSettingsMap": {},
     "title": ""
    }
   },
   "outputs": [
    {
     "data": {
      "text/html": [
       "<style scoped>\n",
       "  .table-result-container {\n",
       "    max-height: 300px;\n",
       "    overflow: auto;\n",
       "  }\n",
       "  table, th, td {\n",
       "    border: 1px solid black;\n",
       "    border-collapse: collapse;\n",
       "  }\n",
       "  th, td {\n",
       "    padding: 5px;\n",
       "  }\n",
       "  th {\n",
       "    text-align: left;\n",
       "  }\n",
       "</style><div class='table-result-container'><table class='table-result'><thead style='background-color: white'><tr><th>count(1)</th><th>count</th></tr></thead><tbody><tr><td>84</td><td>key1</td></tr><tr><td>84</td><td>key2</td></tr><tr><td>84</td><td>count</td></tr></tbody></table></div>"
      ]
     },
     "metadata": {
      "application/vnd.databricks.v1+output": {
       "addedWidgets": {},
       "aggData": [],
       "aggError": "",
       "aggOverflow": false,
       "aggSchema": [],
       "aggSeriesLimitReached": false,
       "aggType": "",
       "arguments": {},
       "columnCustomDisplayInfos": {},
       "data": [
        [
         84,
         "key1"
        ],
        [
         84,
         "key2"
        ],
        [
         84,
         "count"
        ]
       ],
       "datasetInfos": [],
       "dbfsResultPath": null,
       "isJsonSchema": true,
       "metadata": {
        "isDbfsCommandResult": false
       },
       "overflow": false,
       "plotOptions": {
        "customPlotOptions": {},
        "displayType": "table",
        "pivotAggregation": null,
        "pivotColumns": null,
        "xColumns": null,
        "yColumns": null
       },
       "removedWidgets": [],
       "schema": [
        {
         "metadata": "{\"__autoGeneratedAlias\":\"true\"}",
         "name": "count(1)",
         "type": "\"long\""
        },
        {
         "metadata": "{}",
         "name": "count",
         "type": "\"string\""
        }
       ],
       "type": "table"
      }
     },
     "output_type": "display_data"
    }
   ],
   "source": [
    "%sql\n",
    "select count(*),'count' from silver_sb.test2.b_hier_rtlloc_dlm\n",
    "union all\n",
    "select count(distinct(str)), 'key1' from silver_sb.test2.b_hier_rtlloc_dlm\n",
    "union all\n",
    "select count(distinct(str_label)), 'key2' from from silver_sb.test2.b_hier_rtlloc_dlm\n",
    "-- 84 distinct rows, str is primary key"
   ]
  },
  {
   "cell_type": "code",
   "execution_count": 0,
   "metadata": {
    "application/vnd.databricks.v1+cell": {
     "cellMetadata": {
      "byteLimit": 2048000,
      "rowLimit": 10000
     },
     "inputWidgets": {},
     "nuid": "c7c3b33f-fa2b-4aa0-8bbe-5259aae01156",
     "showTitle": false,
     "tableResultSettingsMap": {},
     "title": ""
    }
   },
   "outputs": [
    {
     "data": {
      "text/html": [
       "<style scoped>\n",
       "  .table-result-container {\n",
       "    max-height: 300px;\n",
       "    overflow: auto;\n",
       "  }\n",
       "  table, th, td {\n",
       "    border: 1px solid black;\n",
       "    border-collapse: collapse;\n",
       "  }\n",
       "  th, td {\n",
       "    padding: 5px;\n",
       "  }\n",
       "  th {\n",
       "    text-align: left;\n",
       "  }\n",
       "</style><div class='table-result-container'><table class='table-result'><thead style='background-color: white'><tr><th>count(1)</th><th>count</th></tr></thead><tbody><tr><td>1820</td><td>key1</td></tr><tr><td>1820</td><td>key2</td></tr><tr><td>1820</td><td>count</td></tr></tbody></table></div>"
      ]
     },
     "metadata": {
      "application/vnd.databricks.v1+output": {
       "addedWidgets": {},
       "aggData": [],
       "aggError": "",
       "aggOverflow": false,
       "aggSchema": [],
       "aggSeriesLimitReached": false,
       "aggType": "",
       "arguments": {},
       "columnCustomDisplayInfos": {},
       "data": [
        [
         1820,
         "key1"
        ],
        [
         1820,
         "key2"
        ],
        [
         1820,
         "count"
        ]
       ],
       "datasetInfos": [],
       "dbfsResultPath": null,
       "isJsonSchema": true,
       "metadata": {
        "isDbfsCommandResult": false
       },
       "overflow": false,
       "plotOptions": {
        "customPlotOptions": {},
        "displayType": "table",
        "pivotAggregation": null,
        "pivotColumns": null,
        "xColumns": null,
        "yColumns": null
       },
       "removedWidgets": [],
       "schema": [
        {
         "metadata": "{\"__autoGeneratedAlias\":\"true\"}",
         "name": "count(1)",
         "type": "\"long\""
        },
        {
         "metadata": "{}",
         "name": "count",
         "type": "\"string\""
        }
       ],
       "type": "table"
      }
     },
     "output_type": "display_data"
    }
   ],
   "source": [
    "%sql\n",
    "select count(*),'count' from silver_sb.test2.b_hier_clnd_dlm\n",
    "union all\n",
    "select count(distinct(fscldt_id)), 'key1' from silver_sb.test2.b_hier_clnd_dlm\n",
    "union all\n",
    "select count(distinct(fscldt_label)), 'key2' from from silver_sb.test2.b_hier_clnd_dlm\n",
    "-- 1820 distinct rows, fscldt_id is primary key"
   ]
  },
  {
   "cell_type": "code",
   "execution_count": 0,
   "metadata": {
    "application/vnd.databricks.v1+cell": {
     "cellMetadata": {
      "byteLimit": 2048000,
      "rowLimit": 10000
     },
     "inputWidgets": {},
     "nuid": "357e758e-b863-4ca6-abb3-fd599b0986d6",
     "showTitle": false,
     "tableResultSettingsMap": {},
     "title": ""
    }
   },
   "outputs": [
    {
     "data": {
      "text/html": [
       "<style scoped>\n",
       "  .table-result-container {\n",
       "    max-height: 300px;\n",
       "    overflow: auto;\n",
       "  }\n",
       "  table, th, td {\n",
       "    border: 1px solid black;\n",
       "    border-collapse: collapse;\n",
       "  }\n",
       "  th, td {\n",
       "    padding: 5px;\n",
       "  }\n",
       "  th {\n",
       "    text-align: left;\n",
       "  }\n",
       "</style><div class='table-result-container'><table class='table-result'><thead style='background-color: white'><tr><th>count(1)</th><th>count</th></tr></thead><tbody><tr><td>1545</td><td>key1</td></tr><tr><td>740805</td><td>key2</td></tr><tr><td>740805</td><td>count</td></tr></tbody></table></div>"
      ]
     },
     "metadata": {
      "application/vnd.databricks.v1+output": {
       "addedWidgets": {},
       "aggData": [],
       "aggError": "",
       "aggOverflow": false,
       "aggSchema": [],
       "aggSeriesLimitReached": false,
       "aggType": "",
       "arguments": {},
       "columnCustomDisplayInfos": {},
       "data": [
        [
         1545,
         "key1"
        ],
        [
         740805,
         "key2"
        ],
        [
         740805,
         "count"
        ]
       ],
       "datasetInfos": [],
       "dbfsResultPath": null,
       "isJsonSchema": true,
       "metadata": {
        "isDbfsCommandResult": false
       },
       "overflow": false,
       "plotOptions": {
        "customPlotOptions": {},
        "displayType": "table",
        "pivotAggregation": null,
        "pivotColumns": null,
        "xColumns": null,
        "yColumns": null
       },
       "removedWidgets": [],
       "schema": [
        {
         "metadata": "{\"__autoGeneratedAlias\":\"true\"}",
         "name": "count(1)",
         "type": "\"long\""
        },
        {
         "metadata": "{}",
         "name": "count",
         "type": "\"string\""
        }
       ],
       "type": "table"
      }
     },
     "output_type": "display_data"
    }
   ],
   "source": [
    "%sql\n",
    "select count(*),'count' from silver_sb.test2.b_fact_averagecosts_dlm\n",
    "union all\n",
    "select count(distinct(fscldt_id)), 'key1' from silver_sb.test2.b_fact_averagecosts_dlm\n",
    "union all\n",
    "select count(distinct(fscldt_id, sku_id)), 'key2' from from silver_sb.test2.b_fact_averagecosts_dlm\n",
    "-- 740805 distinct rows, fscldt_id, sku_id is primary key"
   ]
  },
  {
   "cell_type": "code",
   "execution_count": 0,
   "metadata": {
    "application/vnd.databricks.v1+cell": {
     "cellMetadata": {
      "byteLimit": 2048000,
      "rowLimit": 10000
     },
     "inputWidgets": {},
     "nuid": "63cfd39a-49ab-41a0-b007-a0166de86207",
     "showTitle": false,
     "tableResultSettingsMap": {},
     "title": ""
    }
   },
   "outputs": [
    {
     "data": {
      "text/html": [
       "<style scoped>\n",
       "  .table-result-container {\n",
       "    max-height: 300px;\n",
       "    overflow: auto;\n",
       "  }\n",
       "  table, th, td {\n",
       "    border: 1px solid black;\n",
       "    border-collapse: collapse;\n",
       "  }\n",
       "  th, td {\n",
       "    padding: 5px;\n",
       "  }\n",
       "  th {\n",
       "    text-align: left;\n",
       "  }\n",
       "</style><div class='table-result-container'><table class='table-result'><thead style='background-color: white'><tr><th>count(1)</th><th>count</th></tr></thead><tbody><tr><td>2868520</td><td>key1</td></tr><tr><td>509965</td><td>key2</td></tr><tr><td>4503108</td><td>count</td></tr></tbody></table></div>"
      ]
     },
     "metadata": {
      "application/vnd.databricks.v1+output": {
       "addedWidgets": {},
       "aggData": [],
       "aggError": "",
       "aggOverflow": false,
       "aggSchema": [],
       "aggSeriesLimitReached": false,
       "aggType": "",
       "arguments": {},
       "columnCustomDisplayInfos": {},
       "data": [
        [
         2868520,
         "key1"
        ],
        [
         509965,
         "key2"
        ],
        [
         4503108,
         "count"
        ]
       ],
       "datasetInfos": [],
       "dbfsResultPath": null,
       "isJsonSchema": true,
       "metadata": {
        "isDbfsCommandResult": false
       },
       "overflow": false,
       "plotOptions": {
        "customPlotOptions": {},
        "displayType": "table",
        "pivotAggregation": null,
        "pivotColumns": null,
        "xColumns": null,
        "yColumns": null
       },
       "removedWidgets": [],
       "schema": [
        {
         "metadata": "{\"__autoGeneratedAlias\":\"true\"}",
         "name": "count(1)",
         "type": "\"long\""
        },
        {
         "metadata": "{}",
         "name": "count",
         "type": "\"string\""
        }
       ],
       "type": "table"
      }
     },
     "output_type": "display_data"
    }
   ],
   "source": [
    "%sql\n",
    "select count(*),'count' from silver_sb.test2.b_fact_transactions_dlm\n",
    "union all\n",
    "select count(distinct(order_id)), 'key1' from silver_sb.test2.b_fact_transactions_dlm\n",
    "union all\n",
    "select count(distinct(*)), 'key2' from from silver_sb.test2.b_fact_transactions_dlm\n",
    "-- 4503108 distinct rows"
   ]
  },
  {
   "cell_type": "code",
   "execution_count": 0,
   "metadata": {
    "application/vnd.databricks.v1+cell": {
     "cellMetadata": {
      "byteLimit": 2048000,
      "rowLimit": 10000
     },
     "inputWidgets": {},
     "nuid": "ec7f3235-de42-4200-b91d-b54048922631",
     "showTitle": false,
     "tableResultSettingsMap": {},
     "title": ""
    }
   },
   "outputs": [],
   "source": [
    "%sql\n",
    "select *, count(*) over (partition by order_id, line_id, sku_id, fscldt_id ) as cnt from silver_sb.test2.b_fact_transactions_dlm"
   ]
  },
  {
   "cell_type": "code",
   "execution_count": 0,
   "metadata": {
    "application/vnd.databricks.v1+cell": {
     "cellMetadata": {
      "byteLimit": 2048000,
      "rowLimit": 10000
     },
     "inputWidgets": {},
     "nuid": "f7f1f9d9-ede9-4378-81fa-95100542ce15",
     "showTitle": false,
     "tableResultSettingsMap": {},
     "title": ""
    }
   },
   "outputs": [
    {
     "data": {
      "text/html": [
       "<style scoped>\n",
       "  .table-result-container {\n",
       "    max-height: 300px;\n",
       "    overflow: auto;\n",
       "  }\n",
       "  table, th, td {\n",
       "    border: 1px solid black;\n",
       "    border-collapse: collapse;\n",
       "  }\n",
       "  th, td {\n",
       "    padding: 5px;\n",
       "  }\n",
       "  th {\n",
       "    text-align: left;\n",
       "  }\n",
       "</style><div class='table-result-container'><table class='table-result'><thead style='background-color: white'><tr><th>loc</th></tr></thead><tbody><tr><td>103</td></tr><tr><td>119</td></tr></tbody></table></div>"
      ]
     },
     "metadata": {
      "application/vnd.databricks.v1+output": {
       "addedWidgets": {},
       "aggData": [],
       "aggError": "",
       "aggOverflow": false,
       "aggSchema": [],
       "aggSeriesLimitReached": false,
       "aggType": "",
       "arguments": {},
       "columnCustomDisplayInfos": {},
       "data": [
        [
         103
        ],
        [
         119
        ]
       ],
       "datasetInfos": [],
       "dbfsResultPath": null,
       "isJsonSchema": true,
       "metadata": {
        "isDbfsCommandResult": false
       },
       "overflow": false,
       "plotOptions": {
        "customPlotOptions": {},
        "displayType": "table",
        "pivotAggregation": null,
        "pivotColumns": null,
        "xColumns": null,
        "yColumns": null
       },
       "removedWidgets": [],
       "schema": [
        {
         "metadata": "{}",
         "name": "loc",
         "type": "\"integer\""
        }
       ],
       "type": "table"
      }
     },
     "output_type": "display_data"
    }
   ],
   "source": [
    "%sql\n",
    "-- select site_id from silver_sb.test2.stg_hier_possite where site_id not in (select loc from silver_sb.test2.stg_hier_invloc) --7\n",
    "select loc from silver_sb.test2.stg_hier_invloc where loc not in (select site_id from silver_sb.test2.stg_hier_possite) --2\n"
   ]
  }
 ],
 "metadata": {
  "application/vnd.databricks.v1+notebook": {
   "computePreferences": null,
   "dashboards": [],
   "environmentMetadata": {
    "base_environment": "",
    "environment_version": "2"
   },
   "language": "scala",
   "notebookMetadata": {
    "pythonIndentUnit": 4
   },
   "notebookName": "1. ERD&analysis",
   "widgets": {}
  },
  "language_info": {
   "name": "scala"
  }
 },
 "nbformat": 4,
 "nbformat_minor": 0
}
