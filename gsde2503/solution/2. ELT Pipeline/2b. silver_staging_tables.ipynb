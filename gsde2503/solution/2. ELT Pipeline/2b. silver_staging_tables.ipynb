{
 "cells": [
  {
   "cell_type": "code",
   "execution_count": 0,
   "metadata": {
    "application/vnd.databricks.v1+cell": {
     "cellMetadata": {
      "byteLimit": 2048000,
      "rowLimit": 10000
     },
     "inputWidgets": {},
     "nuid": "8c716b3a-50e1-4d24-a4e5-fce55f7cce46",
     "showTitle": false,
     "tableResultSettingsMap": {},
     "title": ""
    }
   },
   "outputs": [],
   "source": [
    "# variables\n",
    "dbutils.widgets.text(\"bronze_catalog\", \"bronze_sb\")\n",
    "dbutils.widgets.text(\"bronze_schema\", \"test3\")\n",
    "dbutils.widgets.text(\"silver_catalog\", \"{silver_catalog}\")\n",
    "dbutils.widgets.text(\"silver_schema\", \"{silver_schema}\")\n",
    "bronze_catalog = dbutils.widgets.get(\"bronze_catalog\")\n",
    "bronze_schema = dbutils.widgets.get(\"bronze_schema\")\n",
    "silver_catalog = dbutils.widgets.get(\"silver_catalog\")\n",
    "silver_schema = dbutils.widgets.get(\"silver_schema\")"
   ]
  },
  {
   "cell_type": "code",
   "execution_count": 0,
   "metadata": {
    "application/vnd.databricks.v1+cell": {
     "cellMetadata": {
      "byteLimit": 2048000,
      "rowLimit": 10000
     },
     "inputWidgets": {},
     "nuid": "a9bd2088-1ff4-430a-af0c-5799110e010c",
     "showTitle": false,
     "tableResultSettingsMap": {},
     "title": ""
    }
   },
   "outputs": [],
   "source": [
    "def load_stg_table(table_name, schema):\n",
    "    stg_table_name = f\"{silver_catalog}.{silver_schema}.stg_{table_name[:-4]}\"\n",
    "    spark.sql(f\"DROP TABLE IF EXISTS {stg_table_name}\")\n",
    "    print('dropped and creating table')\n",
    "    spark.sql(f\"CREATE TABLE {stg_table_name} ({schema})\")\n",
    "    spark.sql(f\"INSERT INTO {stg_table_name} SELECT * FROM {bronze_catalog}.{bronze_schema}.{table_name}\")\n",
    "    count = spark.sql(f\"SELECT COUNT(*) FROM {stg_table_name}\").collect()[0][0]\n",
    "    print(f'table {stg_table_name} created and populated with {count} rows')"
   ]
  },
  {
   "cell_type": "code",
   "execution_count": 0,
   "metadata": {
    "application/vnd.databricks.v1+cell": {
     "cellMetadata": {
      "byteLimit": 2048000,
      "rowLimit": 10000
     },
     "inputWidgets": {},
     "nuid": "5f6c320b-c8c7-412c-a46e-125aac906662",
     "showTitle": false,
     "tableResultSettingsMap": {},
     "title": ""
    }
   },
   "outputs": [
    {
     "name": "stdout",
     "output_type": "stream",
     "text": [
      "dropped and creating table\n",
      "table silver_sb.test2.stg_hier_hldy created and populated\n"
     ]
    }
   ],
   "source": [
    "schema1 = \"\"\"hldy_id STRING NOT NULL,\n",
    "  hldy_label STRING,\n",
    "  PRIMARY KEY (hldy_id)\"\"\"\n",
    "load_stg_table(\"hier_hldy_dlm\", schema1)"
   ]
  },
  {
   "cell_type": "code",
   "execution_count": 0,
   "metadata": {
    "application/vnd.databricks.v1+cell": {
     "cellMetadata": {
      "byteLimit": 2048000,
      "rowLimit": 10000
     },
     "inputWidgets": {},
     "nuid": "26de7518-9a4d-42d4-9f52-17c4a1f7b25a",
     "showTitle": false,
     "tableResultSettingsMap": {},
     "title": ""
    }
   },
   "outputs": [
    {
     "name": "stdout",
     "output_type": "stream",
     "text": [
      "dropped and creating table\n",
      "table silver_sb.test2.stg_hier_clnd created and populated with 1820 rows\n"
     ]
    }
   ],
   "source": [
    "schema2 = \"\"\"fscldt_id INT PRIMARY KEY,\n",
    "fscldt_label STRING,\n",
    "fsclwk_id INT,\n",
    "fsclwk_label STRING,\n",
    "fsclmth_id INT,\n",
    "fsclmth_label STRING,\n",
    "fsclqrtr_id INT,\n",
    "fsclqrtr_label STRING,\n",
    "fsclyr_id INT,\n",
    "fsclyr_label INT,\n",
    "ssn_id STRING,\n",
    "ssn_label STRING,\n",
    "ly_fscldt_id INT,\n",
    "lly_fscldt_id INT,\n",
    "fscldow INT,\n",
    "fscldom INT,\n",
    "fscldoq INT,\n",
    "fscldoy INT,\n",
    "fsclwoy INT,\n",
    "fsclmoy INT,\n",
    "fsclqoy INT,\n",
    "date DATE\"\"\"\n",
    "load_stg_table(\"hier_clnd_dlm\", schema2)"
   ]
  },
  {
   "cell_type": "code",
   "execution_count": 0,
   "metadata": {
    "application/vnd.databricks.v1+cell": {
     "cellMetadata": {
      "byteLimit": 2048000,
      "rowLimit": 10000
     },
     "inputWidgets": {},
     "nuid": "5eed1876-d51a-412d-98f1-f00954063e24",
     "showTitle": false,
     "tableResultSettingsMap": {},
     "title": ""
    }
   },
   "outputs": [
    {
     "name": "stdout",
     "output_type": "stream",
     "text": [
      "dropped and creating table\n",
      "table silver_sb.test2.stg_hier_pricestate created and populated\n"
     ]
    }
   ],
   "source": [
    "schema3 = \"\"\"\n",
    "substate_id STRING NOT NULL,\n",
    "substate_label STRING,\n",
    "state_id STRING NOT NULL,\n",
    "state_label STRING,\n",
    "PRIMARY KEY(substate_id, state_id)\n",
    "\"\"\"\n",
    "load_stg_table(\"hier_pricestate_dlm\", schema3)"
   ]
  },
  {
   "cell_type": "code",
   "execution_count": 0,
   "metadata": {
    "application/vnd.databricks.v1+cell": {
     "cellMetadata": {
      "byteLimit": 2048000,
      "rowLimit": 10000
     },
     "inputWidgets": {},
     "nuid": "af28d04e-ef47-4b34-bff9-427373e0c5a2",
     "showTitle": false,
     "tableResultSettingsMap": {},
     "title": ""
    }
   },
   "outputs": [
    {
     "name": "stdout",
     "output_type": "stream",
     "text": [
      "dropped and creating table\n",
      "table silver_sb.test2.stg_hier_rtlloc created and populated with 84 rows\n"
     ]
    }
   ],
   "source": [
    "schema4 = \"\"\"\n",
    "str INT PRIMARY KEY,\n",
    "str_label STRING,\n",
    "dstr INT,\n",
    "dstr_label STRING,\n",
    "rgn INT,\n",
    "rgn_label STRING\n",
    "\"\"\"\n",
    "load_stg_table(\"hier_rtlloc_dlm\", schema4)"
   ]
  },
  {
   "cell_type": "code",
   "execution_count": 0,
   "metadata": {
    "application/vnd.databricks.v1+cell": {
     "cellMetadata": {
      "byteLimit": 2048000,
      "rowLimit": 10000
     },
     "inputWidgets": {},
     "nuid": "3217720b-7b15-48c3-83e8-43457787444c",
     "showTitle": false,
     "tableResultSettingsMap": {},
     "title": ""
    }
   },
   "outputs": [
    {
     "name": "stdout",
     "output_type": "stream",
     "text": [
      "dropped and creating table\n",
      "table silver_sb.test2.stg_hier_invloc created and populated\n"
     ]
    }
   ],
   "source": [
    "schema5 = \"\"\"\n",
    "loc INT PRIMARY KEY,\n",
    "loc_label STRING,\n",
    "loctype STRING,\n",
    "loctype_label STRING\n",
    "\"\"\"\n",
    "load_stg_table(\"hier_invloc_dlm\", schema5)"
   ]
  },
  {
   "cell_type": "code",
   "execution_count": 0,
   "metadata": {
    "application/vnd.databricks.v1+cell": {
     "cellMetadata": {
      "byteLimit": 2048000,
      "rowLimit": 10000
     },
     "inputWidgets": {},
     "nuid": "a7b38275-4e50-456a-9f32-ce509b5264cc",
     "showTitle": false,
     "tableResultSettingsMap": {},
     "title": ""
    }
   },
   "outputs": [
    {
     "name": "stdout",
     "output_type": "stream",
     "text": [
      "dropped and creating table\n",
      "table silver_sb.test2.stg_hier_possite created and populated\n"
     ]
    }
   ],
   "source": [
    "schema6 = \"\"\"\n",
    "site_id STRING PRIMARY KEY,\n",
    "site_label STRING,\n",
    "subchnl_id STRING,\n",
    "subchnl_label STRING,\n",
    "chnl_id STRING,\n",
    "chnl_label STRING\n",
    "\"\"\"\n",
    "load_stg_table(\"hier_possite_dlm\", schema6)"
   ]
  },
  {
   "cell_type": "code",
   "execution_count": 0,
   "metadata": {
    "application/vnd.databricks.v1+cell": {
     "cellMetadata": {
      "byteLimit": 2048000,
      "rowLimit": 10000
     },
     "inputWidgets": {},
     "nuid": "3e8e2b64-1f92-4b7d-9b66-f94a408100b9",
     "showTitle": false,
     "tableResultSettingsMap": {},
     "title": ""
    }
   },
   "outputs": [
    {
     "name": "stdout",
     "output_type": "stream",
     "text": [
      "dropped and creating table\n",
      "table silver_sb.test2.stg_hier_invstatus created and populated with 245 rows\n"
     ]
    }
   ],
   "source": [
    "schema7 = \"\"\"\n",
    "code_id STRING PRIMARY KEY,\n",
    "code_label STRING,\n",
    "bckt_id STRING,\n",
    "bckt_label STRING,\n",
    "ownrshp_id STRING,\n",
    "ownrshp_label STRING\n",
    "\"\"\"\n",
    "load_stg_table(\"hier_invstatus_dlm\", schema7)"
   ]
  },
  {
   "cell_type": "code",
   "execution_count": 0,
   "metadata": {
    "application/vnd.databricks.v1+cell": {
     "cellMetadata": {
      "byteLimit": 2048000,
      "rowLimit": 10000
     },
     "inputWidgets": {},
     "nuid": "576f3d56-ce1b-4d84-82af-3e3201e02ff7",
     "showTitle": false,
     "tableResultSettingsMap": {},
     "title": ""
    }
   },
   "outputs": [
    {
     "name": "stdout",
     "output_type": "stream",
     "text": [
      "dropped and creating table\n",
      "table silver_sb.test2.stg_hier_prod created and populated\n"
     ]
    }
   ],
   "source": [
    "schema8 = \"\"\"\n",
    "sku_id STRING PRIMARY KEY,\n",
    "sku_label STRING,\n",
    "stylclr_id STRING,\n",
    "stylclr_label STRING,\n",
    "styl_id STRING,\n",
    "styl_label STRING,\n",
    "subcat_id INT,\n",
    "subcat_label STRING,\n",
    "cat_id INT,\n",
    "cat_label STRING,\n",
    "dept_id INT,\n",
    "dept_label STRING,\n",
    "issvc INT,\n",
    "isasmbly INT,\n",
    "isnfs INT\n",
    "\"\"\"\n",
    "load_stg_table(\"hier_prod_dlm\", schema8)"
   ]
  },
  {
   "cell_type": "code",
   "execution_count": 0,
   "metadata": {
    "application/vnd.databricks.v1+cell": {
     "cellMetadata": {
      "byteLimit": 2048000,
      "rowLimit": 10000
     },
     "inputWidgets": {},
     "nuid": "9e6928bc-075f-4ab4-9fc3-fef68d47f07f",
     "showTitle": false,
     "tableResultSettingsMap": {},
     "title": ""
    }
   },
   "outputs": [
    {
     "name": "stdout",
     "output_type": "stream",
     "text": [
      "dropped and creating table\n",
      "table silver_sb.test2.stg_fact_averagecosts created and populated with 740805 rows\n"
     ]
    }
   ],
   "source": [
    "schema9 = \"\"\"\n",
    "fscldt_id INT NOT NULL,\n",
    "sku_id STRING NOT NULL,\n",
    "average_unit_standardcost DOUBLE,\n",
    "average_unit_landedcost DOUBLE,\n",
    "PRIMARY KEY(fscldt_id, sku_id)\n",
    "\"\"\"\n",
    "# Not added foreign key as databricks not supported but in other databses we can include by adding following line\n",
    "# CONSTRAINT avg_sk FOREIGN KEY(sku_id) REFERENCES stg_prod_dlm \n",
    "load_stg_table(\"fact_averagecosts_dlm\", schema9)"
   ]
  },
  {
   "cell_type": "code",
   "execution_count": 0,
   "metadata": {
    "application/vnd.databricks.v1+cell": {
     "cellMetadata": {
      "byteLimit": 2048000,
      "rowLimit": 10000
     },
     "inputWidgets": {},
     "nuid": "31e5c614-d13d-46b2-9e4b-11a9c60be073",
     "showTitle": false,
     "tableResultSettingsMap": {},
     "title": ""
    }
   },
   "outputs": [
    {
     "name": "stdout",
     "output_type": "stream",
     "text": [
      "dropped and creating table\n",
      "table silver_sb.test2.stg_fact_transactions created and populated with 4503108 rows\n"
     ]
    }
   ],
   "source": [
    "schema10 = \"\"\"\n",
    "order_id BIGINT,\n",
    "line_id INT,\n",
    "type STRING,\n",
    "dt TIMESTAMP,\n",
    "pos_site_id STRING,\n",
    "sku_id STRING,\n",
    "fscldt_id INT,\n",
    "price_substate_id STRING,\n",
    "sales_units INT,\n",
    "sales_dollars DOUBLE,\n",
    "discount_dollars DOUBLE,\n",
    "original_order_id BIGINT,\n",
    "original_line_id INT\n",
    "\"\"\"\n",
    "load_stg_table(\"fact_transactions_dlm\", schema10)"
   ]
  },
  {
   "cell_type": "code",
   "execution_count": 0,
   "metadata": {
    "application/vnd.databricks.v1+cell": {
     "cellMetadata": {
      "byteLimit": 2048000,
      "rowLimit": 10000
     },
     "inputWidgets": {},
     "nuid": "69a0805e-063d-4d00-86a1-f3ff4d4af947",
     "showTitle": false,
     "tableResultSettingsMap": {},
     "title": ""
    }
   },
   "outputs": [],
   "source": [
    "def foreign_key_check(table_name1, table_name2, foreign_key1, foreign_key2):\n",
    "    is_foreign = False\n",
    "    fails = spark.sql(f\"select count(*) from {table_name1} where {foreign_key1} not in (select {foreign_key2} from {table_name2})\").collect()[0][0]\n",
    "    if fails == 0:\n",
    "        is_foreign = True\n",
    "        print(f\"Foreign keys {foreign_key1} for {table_name1} and {table_name2} are satisfied\")\n",
    "    else:\n",
    "        print(f\"Foreign keys {foreign_key1} for {table_name1} and {table_name2} are not satisfied\")\n",
    "    return is_foreign"
   ]
  },
  {
   "cell_type": "code",
   "execution_count": 0,
   "metadata": {
    "application/vnd.databricks.v1+cell": {
     "cellMetadata": {
      "byteLimit": 2048000,
      "rowLimit": 10000
     },
     "inputWidgets": {},
     "nuid": "c8023a40-20b9-48af-a721-5c176a4d9d3e",
     "showTitle": true,
     "tableResultSettingsMap": {},
     "title": "foreign_key"
    }
   },
   "outputs": [
    {
     "name": "stdout",
     "output_type": "stream",
     "text": [
      "Foreign keys sku_id for silver_sb.test2.stg_fact_averagecosts and silver_sb.test2.stg_hier_prod are satisfied\n",
      "True\n",
      "Foreign keys pos_site_id for silver_sb.test2.stg_fact_transactions and silver_sb.test2.stg_hier_possite are satisfied\n",
      "True\n",
      "Foreign keys sku_id for silver_sb.test2.stg_fact_transactions and silver_sb.test2.stg_hier_prod are satisfied\n",
      "True\n",
      "Foreign keys price_substate_id for silver_sb.test2.stg_fact_transactions and silver_sb.test2.stg_hier_pricestate are satisfied\n",
      "True\n"
     ]
    }
   ],
   "source": [
    "# Foreign key replacement\n",
    "print(foreign_key_check(f\"{silver_catalog}.{silver_schema}.stg_fact_averagecosts\", f\"{silver_catalog}.{silver_schema}.stg_hier_prod\", \"sku_id\", \"sku_id\"))\n",
    "print(foreign_key_check(f\"{silver_catalog}.{silver_schema}.stg_fact_transactions\", f\"{silver_catalog}.{silver_schema}.stg_hier_possite\", \"pos_site_id\", \"site_id\"))\n",
    "print(foreign_key_check(f\"{silver_catalog}.{silver_schema}.stg_fact_transactions\", f\"{silver_catalog}.{silver_schema}.stg_hier_prod\", \"sku_id\", \"sku_id\"))\n",
    "print(foreign_key_check(f\"{silver_catalog}.{silver_schema}.stg_fact_transactions\", f\"{silver_catalog}.{silver_schema}.stg_hier_pricestate\", \"price_substate_id\", \"substate_id\"))\n",
    "\"\"\"\n",
    "sku_id is foreign key in stg_fact_averagecosts referencing to sku_id in stg_hier_prod\n",
    "pos_site_id is foreign key in stg_fact_transactions referencing to site_id in stg_hier_possite\n",
    "sku_id is foreign key in stg_fact_transactions referencing to sku_id in stg_hier_prod\n",
    "price_substate_id is foreign key in stg_fact_transactions referencing to substate_id in stg_hier_pricestate\n",
    "fscldt_id is not foreign key in both tables\n",
    "\"\"\""
   ]
  },
  {
   "cell_type": "code",
   "execution_count": 0,
   "metadata": {
    "application/vnd.databricks.v1+cell": {
     "cellMetadata": {
      "byteLimit": 2048000,
      "rowLimit": 10000
     },
     "inputWidgets": {},
     "nuid": "80ac0905-1db6-41ce-9757-6f342722a336",
     "showTitle": true,
     "tableResultSettingsMap": {},
     "title": "scratch_help"
    }
   },
   "outputs": [],
   "source": [
    "%sql\n",
    "-- select count(distinct fscldt_id) from silver_sb.test2.stg_fact_transactions ; --1545\n",
    "-- select count(distinct fscldt_id) from silver_sb.test2.stg_hier_clnd; --1820\n",
    "-- select count(*) from silver_sb.test2.stg_fact_transactions where fscldt_id not in (select fscldt_id from silver_sb.test2.stg_hier_clnd); --2206380\n",
    "-- select count(*) from silver_sb.test2.stg_hier_clnd where fscldt_id not in (select fscldt_id from silver_sb.test2.stg_fact_transactions); --1010\n",
    "-- describe table silver_sb.test2.b_hier_clnd_dlm;\n",
    "-- INSERT INTO silver_sb.test2.s_hier_hldy(hldy_id, hldy_label) VALUES (null, null)"
   ]
  }
 ],
 "metadata": {
  "application/vnd.databricks.v1+notebook": {
   "computePreferences": null,
   "dashboards": [],
   "environmentMetadata": {
    "base_environment": "",
    "environment_version": "2"
   },
   "language": "python",
   "notebookMetadata": {
    "mostRecentlyExecutedCommandWithImplicitDF": {
     "commandId": 838500919722944,
     "dataframes": [
      "_sqldf"
     ]
    },
    "pythonIndentUnit": 4
   },
   "notebookName": "2b. silver_staging_tables",
   "widgets": {
    "bronze_catalog": {
     "currentValue": "bronze_sb",
     "nuid": "b8c2bcde-b73a-4d46-a433-4bad495cfbe0",
     "typedWidgetInfo": {
      "autoCreated": false,
      "defaultValue": "bronze_sb",
      "label": null,
      "name": "bronze_catalog",
      "options": {
       "validationRegex": null,
       "widgetDisplayType": "Text"
      },
      "parameterDataType": "String"
     },
     "widgetInfo": {
      "defaultValue": "bronze_sb",
      "label": null,
      "name": "bronze_catalog",
      "options": {
       "autoCreated": null,
       "validationRegex": null,
       "widgetType": "text"
      },
      "widgetType": "text"
     }
    },
    "bronze_schema": {
     "currentValue": "test3",
     "nuid": "6194838c-fca7-4919-9f46-c6ffee7157e4",
     "typedWidgetInfo": {
      "autoCreated": false,
      "defaultValue": "test3",
      "label": null,
      "name": "bronze_schema",
      "options": {
       "validationRegex": null,
       "widgetDisplayType": "Text"
      },
      "parameterDataType": "String"
     },
     "widgetInfo": {
      "defaultValue": "test3",
      "label": null,
      "name": "bronze_schema",
      "options": {
       "autoCreated": null,
       "validationRegex": null,
       "widgetType": "text"
      },
      "widgetType": "text"
     }
    },
    "silver_catalog": {
     "currentValue": "silver_sb",
     "nuid": "4809680e-5f2a-4218-bcb2-c03855b5fd6a",
     "typedWidgetInfo": {
      "autoCreated": false,
      "defaultValue": "{silver_catalog}",
      "label": null,
      "name": "silver_catalog",
      "options": {
       "validationRegex": null,
       "widgetDisplayType": "Text"
      },
      "parameterDataType": "String"
     },
     "widgetInfo": {
      "defaultValue": "{silver_catalog}",
      "label": null,
      "name": "silver_catalog",
      "options": {
       "autoCreated": null,
       "validationRegex": null,
       "widgetType": "text"
      },
      "widgetType": "text"
     }
    },
    "silver_schema": {
     "currentValue": "test2",
     "nuid": "f8cded6b-3c6d-47b7-8b00-08b4b918180d",
     "typedWidgetInfo": {
      "autoCreated": false,
      "defaultValue": "{silver_schema}",
      "label": null,
      "name": "silver_schema",
      "options": {
       "validationRegex": null,
       "widgetDisplayType": "Text"
      },
      "parameterDataType": "String"
     },
     "widgetInfo": {
      "defaultValue": "{silver_schema}",
      "label": null,
      "name": "silver_schema",
      "options": {
       "autoCreated": null,
       "validationRegex": null,
       "widgetType": "text"
      },
      "widgetType": "text"
     }
    }
   }
  },
  "language_info": {
   "name": "python"
  }
 },
 "nbformat": 4,
 "nbformat_minor": 0
}
