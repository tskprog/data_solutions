{
 "cells": [
  {
   "cell_type": "code",
   "execution_count": 0,
   "metadata": {
    "application/vnd.databricks.v1+cell": {
     "cellMetadata": {
      "byteLimit": 2048000,
      "rowLimit": 10000
     },
     "inputWidgets": {},
     "nuid": "48aa9fcd-aa45-4177-822e-bb67c309b93b",
     "showTitle": false,
     "tableResultSettingsMap": {},
     "title": ""
    }
   },
   "outputs": [
    {
     "data": {
      "text/html": [
       "<style scoped>\n",
       "  .table-result-container {\n",
       "    max-height: 300px;\n",
       "    overflow: auto;\n",
       "  }\n",
       "  table, th, td {\n",
       "    border: 1px solid black;\n",
       "    border-collapse: collapse;\n",
       "  }\n",
       "  th, td {\n",
       "    padding: 5px;\n",
       "  }\n",
       "  th {\n",
       "    text-align: left;\n",
       "  }\n",
       "</style><div class='table-result-container'><table class='table-result'><thead style='background-color: white'><tr><th>order_id</th><th>line_id</th><th>type</th><th>dt</th><th>pos_site_id</th><th>sku_id</th><th>fscldt_id</th><th>price_substate_id</th><th>sales_units</th><th>sales_dollars</th><th>discount_dollars</th><th>original_order_id</th><th>original_line_id</th></tr></thead><tbody><tr><td>164087401</td><td>2</td><td>Sale</td><td>2016-01-31T06:17:01.000Z</td><td>CATMAIN</td><td>2668940801</td><td>20160131</td><td>FP</td><td>1</td><td>58.95</td><td>0.0</td><td>null</td><td>null</td></tr><tr><td>164087409</td><td>4</td><td>Sale</td><td>2016-01-31T06:17:25.000Z</td><td>CATMAIN</td><td>2920920601</td><td>20160131</td><td>FP</td><td>1</td><td>49.95</td><td>0.0</td><td>null</td><td>null</td></tr><tr><td>164087440</td><td>2</td><td>Sale</td><td>2016-01-31T06:19:28.000Z</td><td>INETMAIN</td><td>0695690000</td><td>20160131</td><td>FP</td><td>2</td><td>37.9</td><td>0.0</td><td>null</td><td>null</td></tr><tr><td>164087469</td><td>2</td><td>Sale</td><td>2016-01-31T07:03:00.000Z</td><td>CATMAIN</td><td>0505490000</td><td>20160131</td><td>FP</td><td>1</td><td>45.0</td><td>0.0</td><td>null</td><td>null</td></tr><tr><td>164087472</td><td>2</td><td>Sale</td><td>2016-01-31T07:07:36.000Z</td><td>CATMAIN</td><td>2872180801</td><td>20160131</td><td>FP</td><td>1</td><td>98.95</td><td>0.0</td><td>null</td><td>null</td></tr><tr><td>164087476</td><td>1</td><td>Sale</td><td>2016-01-31T07:16:49.000Z</td><td>CATMAIN</td><td>4840520704</td><td>20160131</td><td>FP</td><td>2</td><td>139.9</td><td>0.0</td><td>null</td><td>null</td></tr><tr><td>164087482</td><td>1</td><td>Sale</td><td>2016-01-31T07:28:10.000Z</td><td>CATMAIN</td><td>0403081000</td><td>20160131</td><td>FP</td><td>1</td><td>22.95</td><td>0.0</td><td>null</td><td>null</td></tr><tr><td>164087501</td><td>2</td><td>Sale</td><td>2016-01-31T08:26:32.000Z</td><td>CATMAIN</td><td>0700002000</td><td>20160131</td><td>FP</td><td>1</td><td>24.95</td><td>0.0</td><td>null</td><td>null</td></tr><tr><td>164087518</td><td>1</td><td>Sale</td><td>2016-01-31T11:10:29.000Z</td><td>CATMAIN</td><td>2598481801</td><td>20160131</td><td>FP</td><td>1</td><td>59.95</td><td>0.0</td><td>null</td><td>null</td></tr><tr><td>164087571</td><td>1</td><td>Sale</td><td>2016-01-31T13:38:18.000Z</td><td>CATMAIN</td><td>2815121701</td><td>20160131</td><td>FP</td><td>1</td><td>118.95</td><td>0.0</td><td>null</td><td>null</td></tr><tr><td>164087595</td><td>2</td><td>Sale</td><td>2016-01-31T14:13:13.000Z</td><td>CATMAIN</td><td>2598440801</td><td>20160131</td><td>FP</td><td>1</td><td>59.95</td><td>0.0</td><td>null</td><td>null</td></tr><tr><td>164087609</td><td>2</td><td>Sale</td><td>2016-01-31T14:21:51.000Z</td><td>CATMAIN</td><td>2668920601</td><td>20160131</td><td>FP</td><td>1</td><td>58.95</td><td>0.0</td><td>null</td><td>null</td></tr><tr><td>164074437</td><td>2</td><td>Return</td><td>2016-01-31T14:30:15.000Z</td><td>CATPROSP</td><td>7208420300</td><td>20160131</td><td>FP</td><td>1</td><td>45.54</td><td>4.41</td><td>164074437</td><td>0</td></tr><tr><td>164087664</td><td>3</td><td>Sale</td><td>2016-01-31T14:57:50.000Z</td><td>INETMAIN</td><td>2812520801</td><td>20160131</td><td>FP</td><td>1</td><td>49.95</td><td>0.0</td><td>null</td><td>null</td></tr><tr><td>164087693</td><td>4</td><td>Sale</td><td>2016-01-31T15:18:35.000Z</td><td>CATMAIN</td><td>0487610000</td><td>20160131</td><td>FP</td><td>1</td><td>25.0</td><td>0.0</td><td>null</td><td>null</td></tr><tr><td>164087693</td><td>3</td><td>Sale</td><td>2016-01-31T15:18:35.000Z</td><td>CATMAIN</td><td>2668941801</td><td>20160131</td><td>FP</td><td>1</td><td>58.95</td><td>0.0</td><td>null</td><td>null</td></tr><tr><td>164087698</td><td>2</td><td>Sale</td><td>2016-01-31T15:22:06.000Z</td><td>CATMAIN</td><td>2767891801</td><td>20160131</td><td>FP</td><td>1</td><td>79.95</td><td>0.0</td><td>null</td><td>null</td></tr><tr><td>164087720</td><td>3</td><td>Sale</td><td>2016-01-31T15:32:02.000Z</td><td>CATMAIN</td><td>2767891601</td><td>20160131</td><td>FP</td><td>1</td><td>79.95</td><td>0.0</td><td>null</td><td>null</td></tr><tr><td>164087749</td><td>1</td><td>Sale</td><td>2016-01-31T15:43:11.000Z</td><td>CATMAIN</td><td>2767891701</td><td>20160131</td><td>FP</td><td>1</td><td>79.95</td><td>0.0</td><td>null</td><td>null</td></tr><tr><td>164087757</td><td>1</td><td>Sale</td><td>2016-01-31T15:48:32.000Z</td><td>CATMAIN</td><td>0606590996</td><td>20160131</td><td>FP</td><td>1</td><td>18.95</td><td>0.0</td><td>null</td><td>null</td></tr></tbody></table></div>"
      ]
     },
     "metadata": {
      "application/vnd.databricks.v1+output": {
       "addedWidgets": {},
       "aggData": [],
       "aggError": "",
       "aggOverflow": false,
       "aggSchema": [],
       "aggSeriesLimitReached": false,
       "aggType": "",
       "arguments": {},
       "columnCustomDisplayInfos": {},
       "data": [
        [
         164087401,
         2,
         "Sale",
         "2016-01-31T06:17:01.000Z",
         "CATMAIN",
         "2668940801",
         20160131,
         "FP",
         1,
         58.95,
         0,
         null,
         null
        ],
        [
         164087409,
         4,
         "Sale",
         "2016-01-31T06:17:25.000Z",
         "CATMAIN",
         "2920920601",
         20160131,
         "FP",
         1,
         49.95,
         0,
         null,
         null
        ],
        [
         164087440,
         2,
         "Sale",
         "2016-01-31T06:19:28.000Z",
         "INETMAIN",
         "0695690000",
         20160131,
         "FP",
         2,
         37.9,
         0,
         null,
         null
        ],
        [
         164087469,
         2,
         "Sale",
         "2016-01-31T07:03:00.000Z",
         "CATMAIN",
         "0505490000",
         20160131,
         "FP",
         1,
         45,
         0,
         null,
         null
        ],
        [
         164087472,
         2,
         "Sale",
         "2016-01-31T07:07:36.000Z",
         "CATMAIN",
         "2872180801",
         20160131,
         "FP",
         1,
         98.95,
         0,
         null,
         null
        ],
        [
         164087476,
         1,
         "Sale",
         "2016-01-31T07:16:49.000Z",
         "CATMAIN",
         "4840520704",
         20160131,
         "FP",
         2,
         139.9,
         0,
         null,
         null
        ],
        [
         164087482,
         1,
         "Sale",
         "2016-01-31T07:28:10.000Z",
         "CATMAIN",
         "0403081000",
         20160131,
         "FP",
         1,
         22.95,
         0,
         null,
         null
        ],
        [
         164087501,
         2,
         "Sale",
         "2016-01-31T08:26:32.000Z",
         "CATMAIN",
         "0700002000",
         20160131,
         "FP",
         1,
         24.95,
         0,
         null,
         null
        ],
        [
         164087518,
         1,
         "Sale",
         "2016-01-31T11:10:29.000Z",
         "CATMAIN",
         "2598481801",
         20160131,
         "FP",
         1,
         59.95,
         0,
         null,
         null
        ],
        [
         164087571,
         1,
         "Sale",
         "2016-01-31T13:38:18.000Z",
         "CATMAIN",
         "2815121701",
         20160131,
         "FP",
         1,
         118.95,
         0,
         null,
         null
        ],
        [
         164087595,
         2,
         "Sale",
         "2016-01-31T14:13:13.000Z",
         "CATMAIN",
         "2598440801",
         20160131,
         "FP",
         1,
         59.95,
         0,
         null,
         null
        ],
        [
         164087609,
         2,
         "Sale",
         "2016-01-31T14:21:51.000Z",
         "CATMAIN",
         "2668920601",
         20160131,
         "FP",
         1,
         58.95,
         0,
         null,
         null
        ],
        [
         164074437,
         2,
         "Return",
         "2016-01-31T14:30:15.000Z",
         "CATPROSP",
         "7208420300",
         20160131,
         "FP",
         1,
         45.54,
         4.41,
         164074437,
         0
        ],
        [
         164087664,
         3,
         "Sale",
         "2016-01-31T14:57:50.000Z",
         "INETMAIN",
         "2812520801",
         20160131,
         "FP",
         1,
         49.95,
         0,
         null,
         null
        ],
        [
         164087693,
         4,
         "Sale",
         "2016-01-31T15:18:35.000Z",
         "CATMAIN",
         "0487610000",
         20160131,
         "FP",
         1,
         25,
         0,
         null,
         null
        ],
        [
         164087693,
         3,
         "Sale",
         "2016-01-31T15:18:35.000Z",
         "CATMAIN",
         "2668941801",
         20160131,
         "FP",
         1,
         58.95,
         0,
         null,
         null
        ],
        [
         164087698,
         2,
         "Sale",
         "2016-01-31T15:22:06.000Z",
         "CATMAIN",
         "2767891801",
         20160131,
         "FP",
         1,
         79.95,
         0,
         null,
         null
        ],
        [
         164087720,
         3,
         "Sale",
         "2016-01-31T15:32:02.000Z",
         "CATMAIN",
         "2767891601",
         20160131,
         "FP",
         1,
         79.95,
         0,
         null,
         null
        ],
        [
         164087749,
         1,
         "Sale",
         "2016-01-31T15:43:11.000Z",
         "CATMAIN",
         "2767891701",
         20160131,
         "FP",
         1,
         79.95,
         0,
         null,
         null
        ],
        [
         164087757,
         1,
         "Sale",
         "2016-01-31T15:48:32.000Z",
         "CATMAIN",
         "0606590996",
         20160131,
         "FP",
         1,
         18.95,
         0,
         null,
         null
        ]
       ],
       "datasetInfos": [
        {
         "name": "_sqldf",
         "schema": {
          "fields": [
           {
            "metadata": {},
            "name": "order_id",
            "nullable": true,
            "type": "long"
           },
           {
            "metadata": {},
            "name": "line_id",
            "nullable": true,
            "type": "integer"
           },
           {
            "metadata": {},
            "name": "type",
            "nullable": true,
            "type": "string"
           },
           {
            "metadata": {},
            "name": "dt",
            "nullable": true,
            "type": "timestamp"
           },
           {
            "metadata": {},
            "name": "pos_site_id",
            "nullable": true,
            "type": "string"
           },
           {
            "metadata": {},
            "name": "sku_id",
            "nullable": true,
            "type": "string"
           },
           {
            "metadata": {},
            "name": "fscldt_id",
            "nullable": true,
            "type": "integer"
           },
           {
            "metadata": {},
            "name": "price_substate_id",
            "nullable": true,
            "type": "string"
           },
           {
            "metadata": {},
            "name": "sales_units",
            "nullable": true,
            "type": "integer"
           },
           {
            "metadata": {},
            "name": "sales_dollars",
            "nullable": true,
            "type": "double"
           },
           {
            "metadata": {},
            "name": "discount_dollars",
            "nullable": true,
            "type": "double"
           },
           {
            "metadata": {},
            "name": "original_order_id",
            "nullable": true,
            "type": "long"
           },
           {
            "metadata": {},
            "name": "original_line_id",
            "nullable": true,
            "type": "integer"
           }
          ],
          "type": "struct"
         },
         "tableIdentifier": null,
         "typeStr": "pyspark.sql.connect.dataframe.DataFrame"
        }
       ],
       "dbfsResultPath": null,
       "isJsonSchema": true,
       "metadata": {
        "createTempViewForImplicitDf": true,
        "dataframeName": "_sqldf",
        "executionCount": 1
       },
       "overflow": false,
       "plotOptions": {
        "customPlotOptions": {},
        "displayType": "table",
        "pivotAggregation": null,
        "pivotColumns": null,
        "xColumns": null,
        "yColumns": null
       },
       "removedWidgets": [],
       "schema": [
        {
         "metadata": "{}",
         "name": "order_id",
         "type": "\"long\""
        },
        {
         "metadata": "{}",
         "name": "line_id",
         "type": "\"integer\""
        },
        {
         "metadata": "{}",
         "name": "type",
         "type": "\"string\""
        },
        {
         "metadata": "{}",
         "name": "dt",
         "type": "\"timestamp\""
        },
        {
         "metadata": "{}",
         "name": "pos_site_id",
         "type": "\"string\""
        },
        {
         "metadata": "{}",
         "name": "sku_id",
         "type": "\"string\""
        },
        {
         "metadata": "{}",
         "name": "fscldt_id",
         "type": "\"integer\""
        },
        {
         "metadata": "{}",
         "name": "price_substate_id",
         "type": "\"string\""
        },
        {
         "metadata": "{}",
         "name": "sales_units",
         "type": "\"integer\""
        },
        {
         "metadata": "{}",
         "name": "sales_dollars",
         "type": "\"double\""
        },
        {
         "metadata": "{}",
         "name": "discount_dollars",
         "type": "\"double\""
        },
        {
         "metadata": "{}",
         "name": "original_order_id",
         "type": "\"long\""
        },
        {
         "metadata": "{}",
         "name": "original_line_id",
         "type": "\"integer\""
        }
       ],
       "type": "table"
      }
     },
     "output_type": "display_data"
    }
   ],
   "source": [
    "-- observe the data sample from fact table\n",
    "select * from silver_sb.test2.stg_fact_transactions limit 20"
   ]
  },
  {
   "cell_type": "markdown",
   "metadata": {
    "application/vnd.databricks.v1+cell": {
     "cellMetadata": {},
     "inputWidgets": {},
     "nuid": "64b2dc57-c237-482d-abb1-f3ab5a857c27",
     "showTitle": false,
     "tableResultSettingsMap": {},
     "title": ""
    }
   },
   "source": [
    "2c) Created refined table with all data available"
   ]
  },
  {
   "cell_type": "code",
   "execution_count": 0,
   "metadata": {
    "application/vnd.databricks.v1+cell": {
     "cellMetadata": {
      "byteLimit": 2048000,
      "rowLimit": 10000
     },
     "inputWidgets": {},
     "nuid": "80577446-ce2f-40fd-8a3e-c81eaf8724fa",
     "showTitle": false,
     "tableResultSettingsMap": {},
     "title": ""
    }
   },
   "outputs": [
    {
     "data": {
      "text/html": [
       "<style scoped>\n",
       "  .table-result-container {\n",
       "    max-height: 300px;\n",
       "    overflow: auto;\n",
       "  }\n",
       "  table, th, td {\n",
       "    border: 1px solid black;\n",
       "    border-collapse: collapse;\n",
       "  }\n",
       "  th, td {\n",
       "    padding: 5px;\n",
       "  }\n",
       "  th {\n",
       "    text-align: left;\n",
       "  }\n",
       "</style><div class='table-result-container'><table class='table-result'><thead style='background-color: white'><tr><th>num_affected_rows</th><th>num_inserted_rows</th></tr></thead><tbody></tbody></table></div>"
      ]
     },
     "metadata": {
      "application/vnd.databricks.v1+output": {
       "addedWidgets": {},
       "aggData": [],
       "aggError": "",
       "aggOverflow": false,
       "aggSchema": [],
       "aggSeriesLimitReached": false,
       "aggType": "",
       "arguments": {},
       "columnCustomDisplayInfos": {},
       "data": [],
       "datasetInfos": [
        {
         "name": "_sqldf",
         "schema": {
          "fields": [
           {
            "metadata": {},
            "name": "num_affected_rows",
            "nullable": true,
            "type": "long"
           },
           {
            "metadata": {},
            "name": "num_inserted_rows",
            "nullable": true,
            "type": "long"
           }
          ],
          "type": "struct"
         },
         "tableIdentifier": null,
         "typeStr": "pyspark.sql.connect.dataframe.DataFrame"
        }
       ],
       "dbfsResultPath": null,
       "isJsonSchema": true,
       "metadata": {
        "createTempViewForImplicitDf": true,
        "dataframeName": "_sqldf",
        "executionCount": 9
       },
       "overflow": false,
       "plotOptions": {
        "customPlotOptions": {},
        "displayType": "table",
        "pivotAggregation": null,
        "pivotColumns": null,
        "xColumns": null,
        "yColumns": null
       },
       "removedWidgets": [],
       "schema": [
        {
         "metadata": "{}",
         "name": "num_affected_rows",
         "type": "\"long\""
        },
        {
         "metadata": "{}",
         "name": "num_inserted_rows",
         "type": "\"long\""
        }
       ],
       "type": "table"
      }
     },
     "output_type": "display_data"
    }
   ],
   "source": [
    "-- considered data that have matched week_ids from dimension table\n",
    "-- left join with week_id as null filter can also be used here instead of inner join\n",
    "\n",
    "create or replace table gold_sb.test1.mview_weekly_sales as\n",
    "select pos_site_id, sku_id, fsclwk_id, price_substate_id, type, sum(sales_units) as wk_sales_units, sum(sales_dollars) as wk_sales_dollars, sum(discount_dollars) as wk_discount_dollars from \n",
    "(select pos_site_id, sku_id, ft.fscldt_id, hc.fsclwk_id, price_substate_id, type, sales_units, sales_dollars, discount_dollars from \n",
    "silver_sb.test2.stg_fact_transactions ft  --4493723; selecting required columns from fact table\n",
    "inner join silver_sb.test2.stg_hier_clnd hc on ft.fscldt_id = hc.fscldt_id  --inner join to get the corresponding week_id from dim table\n",
    ")\n",
    "group by pos_site_id, sku_id, fsclwk_id, price_substate_id, type --grouping to get the resultant sums\n",
    "order by fsclwk_id desc"
   ]
  },
  {
   "cell_type": "code",
   "execution_count": 0,
   "metadata": {
    "application/vnd.databricks.v1+cell": {
     "cellMetadata": {
      "byteLimit": 2048000,
      "rowLimit": 10000
     },
     "inputWidgets": {},
     "nuid": "786546e0-14b4-4a00-9288-ee2aa7a9041d",
     "showTitle": false,
     "tableResultSettingsMap": {},
     "title": ""
    }
   },
   "outputs": [
    {
     "data": {
      "text/html": [
       "<style scoped>\n",
       "  .table-result-container {\n",
       "    max-height: 300px;\n",
       "    overflow: auto;\n",
       "  }\n",
       "  table, th, td {\n",
       "    border: 1px solid black;\n",
       "    border-collapse: collapse;\n",
       "  }\n",
       "  th, td {\n",
       "    padding: 5px;\n",
       "  }\n",
       "  th {\n",
       "    text-align: left;\n",
       "  }\n",
       "</style><div class='table-result-container'><table class='table-result'><thead style='background-color: white'><tr><th>count(*)</th></tr></thead><tbody><tr><td>887849</td></tr></tbody></table></div>"
      ]
     },
     "metadata": {
      "application/vnd.databricks.v1+output": {
       "addedWidgets": {},
       "aggData": [],
       "aggError": "",
       "aggOverflow": false,
       "aggSchema": [],
       "aggSeriesLimitReached": false,
       "aggType": "",
       "arguments": {},
       "columnCustomDisplayInfos": {},
       "data": [
        [
         887849
        ]
       ],
       "datasetInfos": [
        {
         "name": "_sqldf",
         "schema": {
          "fields": [
           {
            "metadata": {},
            "name": "count(*)",
            "nullable": false,
            "type": "long"
           }
          ],
          "type": "struct"
         },
         "tableIdentifier": null,
         "typeStr": "pyspark.sql.connect.dataframe.DataFrame"
        }
       ],
       "dbfsResultPath": null,
       "isJsonSchema": true,
       "metadata": {
        "createTempViewForImplicitDf": true,
        "dataframeName": "_sqldf",
        "executionCount": 10
       },
       "overflow": false,
       "plotOptions": {
        "customPlotOptions": {},
        "displayType": "table",
        "pivotAggregation": null,
        "pivotColumns": null,
        "xColumns": null,
        "yColumns": null
       },
       "removedWidgets": [],
       "schema": [
        {
         "metadata": "{}",
         "name": "count(*)",
         "type": "\"long\""
        }
       ],
       "type": "table"
      }
     },
     "output_type": "display_data"
    }
   ],
   "source": [
    "select count(*) from gold_sb.test1.mview_weekly_sales "
   ]
  },
  {
   "cell_type": "markdown",
   "metadata": {
    "application/vnd.databricks.v1+cell": {
     "cellMetadata": {},
     "inputWidgets": {},
     "nuid": "93ab16c6-30b9-43dd-bc54-f1e57e5311a7",
     "showTitle": false,
     "tableResultSettingsMap": {},
     "title": ""
    }
   },
   "source": [
    "2d) Incremental process acheived by applying filter on fscldt_id"
   ]
  },
  {
   "cell_type": "code",
   "execution_count": 0,
   "metadata": {
    "application/vnd.databricks.v1+cell": {
     "cellMetadata": {
      "byteLimit": 2048000,
      "rowLimit": 10000
     },
     "inputWidgets": {},
     "nuid": "2411b2cb-6bf1-4eda-8ecd-3539f2470a47",
     "showTitle": false,
     "tableResultSettingsMap": {},
     "title": ""
    }
   },
   "outputs": [
    {
     "data": {
      "text/html": [
       "<style scoped>\n",
       "  .table-result-container {\n",
       "    max-height: 300px;\n",
       "    overflow: auto;\n",
       "  }\n",
       "  table, th, td {\n",
       "    border: 1px solid black;\n",
       "    border-collapse: collapse;\n",
       "  }\n",
       "  th, td {\n",
       "    padding: 5px;\n",
       "  }\n",
       "  th {\n",
       "    text-align: left;\n",
       "  }\n",
       "</style><div class='table-result-container'><table class='table-result'><thead style='background-color: white'><tr><th>num_affected_rows</th><th>num_inserted_rows</th></tr></thead><tbody></tbody></table></div>"
      ]
     },
     "metadata": {
      "application/vnd.databricks.v1+output": {
       "addedWidgets": {},
       "aggData": [],
       "aggError": "",
       "aggOverflow": false,
       "aggSchema": [],
       "aggSeriesLimitReached": false,
       "aggType": "",
       "arguments": {},
       "columnCustomDisplayInfos": {},
       "data": [],
       "datasetInfos": [],
       "dbfsResultPath": null,
       "isJsonSchema": true,
       "metadata": {
        "isDbfsCommandResult": false
       },
       "overflow": false,
       "plotOptions": {
        "customPlotOptions": {},
        "displayType": "table",
        "pivotAggregation": null,
        "pivotColumns": null,
        "xColumns": null,
        "yColumns": null
       },
       "removedWidgets": [],
       "schema": [
        {
         "metadata": "{}",
         "name": "num_affected_rows",
         "type": "\"long\""
        },
        {
         "metadata": "{}",
         "name": "num_inserted_rows",
         "type": "\"long\""
        }
       ],
       "type": "table"
      }
     },
     "output_type": "display_data"
    }
   ],
   "source": [
    "-- considered data before 20200415 that leads to 115 weeks data considering only matched week_ids from dimension table\n",
    "-- left join with week_id as null filter can also be used here instead of inner join\n",
    "\n",
    "create or replace table gold_sb.test1.mview_weekly_sales as\n",
    "select pos_site_id, sku_id, fsclwk_id, price_substate_id, type, sum(sales_units) as wk_sales_units, sum(sales_dollars) as wk_sales_dollars, sum(discount_dollars) as wk_discount_dollars from \n",
    "(select pos_site_id, sku_id, ft.fscldt_id, hc.fsclwk_id, price_substate_id, type, sales_units, sales_dollars, discount_dollars from \n",
    "silver_sb.test2.stg_fact_transactions ft  --4493723; selecting required columns from fact table\n",
    "inner join silver_sb.test2.stg_hier_clnd hc on ft.fscldt_id = hc.fscldt_id  --inner join to get the corresponding week_id from dim table\n",
    "where ft.fscldt_id < '20200415') --4493723; 115 weeks\n",
    "group by pos_site_id, sku_id, fsclwk_id, price_substate_id, type --grouping to get the resultant sums\n",
    "order by fsclwk_id desc"
   ]
  },
  {
   "cell_type": "code",
   "execution_count": 0,
   "metadata": {
    "application/vnd.databricks.v1+cell": {
     "cellMetadata": {
      "byteLimit": 2048000,
      "rowLimit": 10000
     },
     "inputWidgets": {},
     "nuid": "01960bfd-d922-4cc1-8a81-64062955e7f0",
     "showTitle": false,
     "tableResultSettingsMap": {},
     "title": ""
    }
   },
   "outputs": [
    {
     "data": {
      "text/html": [
       "<style scoped>\n",
       "  .table-result-container {\n",
       "    max-height: 300px;\n",
       "    overflow: auto;\n",
       "  }\n",
       "  table, th, td {\n",
       "    border: 1px solid black;\n",
       "    border-collapse: collapse;\n",
       "  }\n",
       "  th, td {\n",
       "    padding: 5px;\n",
       "  }\n",
       "  th {\n",
       "    text-align: left;\n",
       "  }\n",
       "</style><div class='table-result-container'><table class='table-result'><thead style='background-color: white'><tr><th>count(1)</th></tr></thead><tbody><tr><td>886817</td></tr></tbody></table></div>"
      ]
     },
     "metadata": {
      "application/vnd.databricks.v1+output": {
       "addedWidgets": {},
       "aggData": [],
       "aggError": "",
       "aggOverflow": false,
       "aggSchema": [],
       "aggSeriesLimitReached": false,
       "aggType": "",
       "arguments": {},
       "columnCustomDisplayInfos": {},
       "data": [
        [
         886817
        ]
       ],
       "datasetInfos": [],
       "dbfsResultPath": null,
       "isJsonSchema": true,
       "metadata": {
        "isDbfsCommandResult": false
       },
       "overflow": false,
       "plotOptions": {
        "customPlotOptions": {},
        "displayType": "table",
        "pivotAggregation": null,
        "pivotColumns": null,
        "xColumns": null,
        "yColumns": null
       },
       "removedWidgets": [],
       "schema": [
        {
         "metadata": "{\"__autoGeneratedAlias\":\"true\"}",
         "name": "count(1)",
         "type": "\"long\""
        }
       ],
       "type": "table"
      }
     },
     "output_type": "display_data"
    }
   ],
   "source": [
    "select count(*) from gold_sb.test1.mview_weekly_sales --886817 initial count remaining should be there in incremental load"
   ]
  },
  {
   "cell_type": "code",
   "execution_count": 0,
   "metadata": {
    "application/vnd.databricks.v1+cell": {
     "cellMetadata": {
      "byteLimit": 2048000,
      "rowLimit": 10000
     },
     "inputWidgets": {},
     "nuid": "b1d55792-22cb-4676-8057-9c97fb7f1d67",
     "showTitle": true,
     "tableResultSettingsMap": {
      "0": {
       "filterBlob": "{\"filterGroups\":[],\"syncTimestamp\":1741542644872}",
       "tableResultIndex": 0
      }
     },
     "title": "incremental"
    }
   },
   "outputs": [
    {
     "data": {
      "text/html": [
       "<style scoped>\n",
       "  .table-result-container {\n",
       "    max-height: 300px;\n",
       "    overflow: auto;\n",
       "  }\n",
       "  table, th, td {\n",
       "    border: 1px solid black;\n",
       "    border-collapse: collapse;\n",
       "  }\n",
       "  th, td {\n",
       "    padding: 5px;\n",
       "  }\n",
       "  th {\n",
       "    text-align: left;\n",
       "  }\n",
       "</style><div class='table-result-container'><table class='table-result'><thead style='background-color: white'><tr><th>num_affected_rows</th><th>num_updated_rows</th><th>num_deleted_rows</th><th>num_inserted_rows</th></tr></thead><tbody><tr><td>1637</td><td>605</td><td>0</td><td>1032</td></tr></tbody></table></div>"
      ]
     },
     "metadata": {
      "application/vnd.databricks.v1+output": {
       "addedWidgets": {},
       "aggData": [],
       "aggError": "",
       "aggOverflow": false,
       "aggSchema": [],
       "aggSeriesLimitReached": false,
       "aggType": "",
       "arguments": {},
       "columnCustomDisplayInfos": {},
       "data": [
        [
         1637,
         605,
         0,
         1032
        ]
       ],
       "datasetInfos": [],
       "dbfsResultPath": null,
       "isJsonSchema": true,
       "metadata": {
        "isDbfsCommandResult": false
       },
       "overflow": false,
       "plotOptions": {
        "customPlotOptions": {},
        "displayType": "table",
        "pivotAggregation": null,
        "pivotColumns": null,
        "xColumns": null,
        "yColumns": null
       },
       "removedWidgets": [],
       "schema": [
        {
         "metadata": "{}",
         "name": "num_affected_rows",
         "type": "\"long\""
        },
        {
         "metadata": "{}",
         "name": "num_updated_rows",
         "type": "\"long\""
        },
        {
         "metadata": "{}",
         "name": "num_deleted_rows",
         "type": "\"long\""
        },
        {
         "metadata": "{}",
         "name": "num_inserted_rows",
         "type": "\"long\""
        }
       ],
       "type": "table"
      }
     },
     "output_type": "display_data"
    }
   ],
   "source": [
    "-- considered data above 20200415 that leads to 2 weeks data considering only matched week_ids from dimension table\n",
    "-- The following can be executed daily by changing the fscldt_id value in the first 2 ctes\n",
    "\n",
    "with fact_trans as (\n",
    "  select pos_site_id, sku_id, fscldt_id, price_substate_id, type, sales_units, sales_dollars, discount_dollars from \n",
    "silver_sb.test2.stg_fact_transactions where fscldt_id >= '20200415'\n",
    "), --9385 fetching required data by giving the fscldt_id range\n",
    "hier_weeks as (\n",
    "  select fscldt_id, fsclwk_id from silver_sb.test2.stg_hier_clnd where fscldt_id >= '20200415'\n",
    "), --1019 fetching fsclwk_id from dim table for the required range\n",
    "new_trans_data as(\n",
    "  select fact_trans.*, hier_weeks.fsclwk_id from fact_trans inner join hier_weeks on fact_trans.fscldt_id = hier_weeks.fscldt_id \n",
    "), --9385 joining fact table with dim table to get the week_id\n",
    "new_week_sales as(\n",
    "  select pos_site_id, sku_id, fsclwk_id, price_substate_id, type, sum(sales_units) as wk_sales_units, sum(sales_dollars) as wk_sales_dollars, sum(discount_dollars) as wk_discount_dollars from new_trans_data \n",
    "  where fsclwk_id is not null \n",
    "  group by pos_site_id, sku_id, fsclwk_id, price_substate_id, type\n",
    "), -- summation on newly added data\n",
    "previous_partial_data as(\n",
    "  select * from gold_sb.test1.mview_weekly_sales where fsclwk_id = (select min(fsclwk_id) from new_trans_data)\n",
    "), -- fetching the lastest weeks data from the existing table to avoid any resultant mistake\n",
    "combined_sales as(\n",
    "  select * from new_week_sales where fsclwk_id is not null\n",
    "  union all\n",
    "  select * from previous_partial_data\n",
    "), -- combining the new data with the latest week of existing data for handling partial week case\n",
    "final_data as(\n",
    "  select pos_site_id, sku_id, fsclwk_id, price_substate_id, type, sum(wk_sales_units) as wk_sales_units, sum(wk_sales_dollars) as wk_sales_dollars, sum(wk_discount_dollars) as wk_discount_dollars from combined_sales \n",
    "  group by pos_site_id, sku_id, fsclwk_id, price_substate_id, type\n",
    ") -- grouping the data to get the final result\n",
    "\n",
    "--  performing incremental using the merge statement as follows\n",
    "merge into gold_sb.test1.mview_weekly_sales mws using final_data fd ON\n",
    "mws.pos_site_id = fd.pos_site_id and mws.sku_id = fd.sku_id and mws.fsclwk_id = fd.fsclwk_id and mws.price_substate_id = fd.price_substate_id and mws.type = fd.type\n",
    "WHEN MATCHED THEN UPDATE SET * WHEN NOT MATCHED THEN INSERT *\n",
    "\n",
    "-- num_affected_rows\tnum_updated_rows\tnum_deleted_rows\tnum_inserted_rows\n",
    "-- 1637\t605\t0\t1032"
   ]
  },
  {
   "cell_type": "code",
   "execution_count": 0,
   "metadata": {
    "application/vnd.databricks.v1+cell": {
     "cellMetadata": {
      "byteLimit": 2048000,
      "rowLimit": 10000
     },
     "inputWidgets": {},
     "nuid": "26cfec64-820b-4de9-a251-f2a20c473e45",
     "showTitle": false,
     "tableResultSettingsMap": {},
     "title": ""
    }
   },
   "outputs": [
    {
     "data": {
      "text/html": [
       "<style scoped>\n",
       "  .table-result-container {\n",
       "    max-height: 300px;\n",
       "    overflow: auto;\n",
       "  }\n",
       "  table, th, td {\n",
       "    border: 1px solid black;\n",
       "    border-collapse: collapse;\n",
       "  }\n",
       "  th, td {\n",
       "    padding: 5px;\n",
       "  }\n",
       "  th {\n",
       "    text-align: left;\n",
       "  }\n",
       "</style><div class='table-result-container'><table class='table-result'><thead style='background-color: white'><tr><th>count(1)</th></tr></thead><tbody><tr><td>887849</td></tr></tbody></table></div>"
      ]
     },
     "metadata": {
      "application/vnd.databricks.v1+output": {
       "addedWidgets": {},
       "aggData": [],
       "aggError": "",
       "aggOverflow": false,
       "aggSchema": [],
       "aggSeriesLimitReached": false,
       "aggType": "",
       "arguments": {},
       "columnCustomDisplayInfos": {},
       "data": [
        [
         887849
        ]
       ],
       "datasetInfos": [],
       "dbfsResultPath": null,
       "isJsonSchema": true,
       "metadata": {
        "isDbfsCommandResult": false
       },
       "overflow": false,
       "plotOptions": {
        "customPlotOptions": {},
        "displayType": "table",
        "pivotAggregation": null,
        "pivotColumns": null,
        "xColumns": null,
        "yColumns": null
       },
       "removedWidgets": [],
       "schema": [
        {
         "metadata": "{\"__autoGeneratedAlias\":\"true\"}",
         "name": "count(1)",
         "type": "\"long\""
        }
       ],
       "type": "table"
      }
     },
     "output_type": "display_data"
    }
   ],
   "source": [
    "select count(*) from gold_sb.test1.mview_weekly_sales --886817+1032 = 887849 count after incremental which is equal to the 2c count"
   ]
  }
 ],
 "metadata": {
  "application/vnd.databricks.v1+notebook": {
   "computePreferences": null,
   "dashboards": [],
   "environmentMetadata": {
    "base_environment": "",
    "environment_version": "2"
   },
   "language": "sql",
   "notebookMetadata": {
    "pythonIndentUnit": 4
   },
   "notebookName": "2cd.gold_refined",
   "widgets": {}
  },
  "language_info": {
   "name": "sql"
  }
 },
 "nbformat": 4,
 "nbformat_minor": 0
}
